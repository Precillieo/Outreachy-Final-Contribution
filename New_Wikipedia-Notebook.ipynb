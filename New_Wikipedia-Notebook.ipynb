{
 "cells": [
  {
   "cell_type": "markdown",
   "metadata": {},
   "source": [
    "# Studying Wikipedia Page Protections\n",
    "This notebook provides a tutorial for how to study [page protections](https://en.wikipedia.org/wiki/Wikipedia:Protection_policy) on Wikipedia either via the [Mediawiki dumps](https://www.mediawiki.org/wiki/Manual:Page_restrictions_table) or [API](https://www.mediawiki.org/w/api.php?action=help&modules=query%2Binfo). It has three stages:\n",
    "* Accessing the Page Protection dumps\n",
    "* Accessing the Page Protection API\n",
    "* Example analysis of page protection data (both descriptive statistics and learning a predictive model)"
   ]
  },
  {
   "cell_type": "markdown",
   "metadata": {},
   "source": [
    "## Accessing the Page Protection Dumps\n",
    "This is an example of how to parse through [Mediawiki dumps](https://www.mediawiki.org/wiki/Manual:Page_restrictions_table) and determine [what sorts of edit protections](https://en.wikipedia.org/wiki/Wikipedia:Protection_policy#Overview_of_types_of_protection) are applied to a given Wikipedia article."
   ]
  },
  {
   "cell_type": "code",
   "execution_count": 1,
   "metadata": {},
   "outputs": [],
   "source": [
    "# TODO: add other libraries here as necessary\n",
    "import gzip  # necessary for decompressing dump file into text format\n",
    "import pandas as pd #for data manipulation and analysis\n",
    "import numpy as np #for mathematical calculations  \n",
    "import seaborn as sns #visualization tool\n",
    "import os   #for interacting with operating system\n",
    "from sklearn.preprocessing import LabelEncoder, MinMaxScaler #for replacing categorical data with a numerical data\n",
    "from scipy import stats #for statistical functions\n",
    "import re #for sequence of character and string \n"
   ]
  },
  {
   "cell_type": "code",
   "execution_count": 2,
   "metadata": {},
   "outputs": [],
   "source": [
    "# Every language on Wikipedia has its own page restrictions table\n",
    "# you can find all the dbnames (e.g., enwiki) here: https://www.mediawiki.org/w/api.php?action=sitematrix\n",
    "# for example, you could replace the LANGUAGE parameter of 'enwiki' with 'arwiki' to study Arabic Wikipedia\n",
    "LANGUAGE = 'enwiki'\n",
    "# e.g., enwiki -> en.wikipedia (this is necessary for the API section)\n",
    "SITENAME = LANGUAGE.replace('wiki', '.wikipedia')\n",
    "# directory on PAWS server that holds Wikimedia dumps\n",
    "DUMP_DIR = \"/public/dumps/public/{0}/latest/\".format(LANGUAGE)\n",
    "DUMP_FN = '{0}-latest-page_restrictions.sql.gz'.format(LANGUAGE)"
   ]
  },
  {
   "cell_type": "code",
   "execution_count": 3,
   "metadata": {},
   "outputs": [
    {
     "name": "stdout",
     "output_type": "stream",
     "text": [
      "1.1M /public/dumps/public/enwiki/latest/enwiki-latest-page_restrictions.sql.gz\r\n"
     ]
    }
   ],
   "source": [
    "# The dataset isn't huge -- 1.1 MB -- so should be quick to process in full\n",
    "!ls -shH \"{DUMP_DIR}{DUMP_FN}\""
   ]
  },
  {
   "cell_type": "code",
   "execution_count": 4,
   "metadata": {},
   "outputs": [
    {
     "name": "stdout",
     "output_type": "stream",
     "text": [
      "-- MySQL dump 10.16  Distrib 10.1.45-MariaDB, for debian-linux-gnu (x86_64)\r\n",
      "--\r\n",
      "-- Host: 10.64.48.13    Database: enwiki\r\n",
      "-- ------------------------------------------------------\r\n",
      "-- Server version\t10.1.43-MariaDB\r\n",
      "\r\n",
      "/*!40101 SET @OLD_CHARACTER_SET_CLIENT=@@CHARACTER_SET_CLIENT */;\r\n",
      "/*!40101 SET @OLD_CHARACTER_SET_RESULTS=@@CHARACTER_SET_RESULTS */;\r\n",
      "/*!40101 SET @OLD_COLLATION_CONNECTION=@@COLLATION_CONNECTION */;\r\n",
      "/*!40101 SET NAMES utf8mb4 */;\r\n",
      "/*!40103 SET @OLD_TIME_ZONE=@@TIME_ZONE */;\r\n",
      "/*!40103 SET TIME_ZONE='+00:00' */;\r\n",
      "/*!40014 SET @OLD_UNIQUE_CHECKS=@@UNIQUE_CHECKS, UNIQUE_CHECKS=0 */;\r\n",
      "/*!40014 SET @OLD_FOREIGN_KEY_CHECKS=@@FOREIGN_KEY_CHECKS, FOREIGN_KEY_CHECKS=0 */;\r\n",
      "/*!40101 SET @OLD_SQL_MODE=@@SQL_MODE, SQL_MODE='NO_AUTO_VALUE_ON_ZERO' */;\r\n",
      "/*!40111 SET @OLD_SQL_NOTES=@@SQL_NOTES, SQL_NOTES=0 */;\r\n",
      "\r\n",
      "--\r\n",
      "-- Table structure for table `page_restrictions`\r\n",
      "--\r\n",
      "\r\n",
      "DROP TABLE IF EXISTS `page_restrictions`;\r\n",
      "/*!40101 SET @saved_cs_client     = @@character_set_client */;\r\n",
      "/*!40101 SET character_set_client = utf8 */;\r\n",
      "CREATE TABLE `page_restrictions` (\r\n",
      "  `pr_page` int(8) NOT NULL DEFAULT '0',\r\n",
      "  `pr_type` varbinary(255) NOT NULL DEFAULT '',\r\n",
      "  `pr_level` varbinary(255) NOT NULL DEFAULT '',\r\n",
      "  `pr_cascade` tinyint(4) NOT NULL DEFAULT '0',\r\n",
      "  `pr_user` int(10) unsigned DEFAULT NULL,\r\n",
      "  `pr_expiry` varbinary(14) DEFAULT NULL,\r\n",
      "  `pr_id` int(10) unsigned NOT NULL AUTO_INCREMENT,\r\n",
      "  PRIMARY KEY (`pr_id`),\r\n",
      "  UNIQUE KEY `pr_pagetype` (`pr_page`,`pr_type`),\r\n",
      "  KEY `pr_typelevel` (`pr_type`,`pr_level`),\r\n",
      "  KEY `pr_level` (`pr_level`),\r\n",
      "  KEY `pr_cascade` (`pr_cascade`)\r\n",
      ") ENGINE=InnoDB AUTO_INCREMENT=869230 DEFAULT CHARSET=binary ROW_FORMAT=COMPRESSED;\r\n",
      "/*!40101 SET character_set_client = @saved_cs_client */;\r\n",
      "\r\n",
      "--\r\n",
      "-- Dumping data for table `page_restrictions`\r\n",
      "--\r\n",
      "\r\n",
      "/*!40000 ALTER TABLE `page_restrictions` DISABLE KEYS */;\r\n",
      "INSERT INTO `page_restrictions` VALUES (1086732,'edit','sysop',0,NULL,'infinity',1307),(1086732,'move','sysop',0,NULL,'infinity',1308),(1266562,'edit','autoconfirmed',0,NULL,'infinity',1358),(1266562,'move','autoconfirmed',0,NULL,'infinity',1359),(1534334,'edit','autoconfirmed',0,NULL,NULL,1437),(1534334,'move','autoconfirmed',0,NULL,NULL,1438),(1654125,'edit','autoconfirmed',0,NULL,NULL,1664),(1654125,'move','autoconfirmed',0,NULL,NULL,1665),(1654622,'edit','autoconfirmed',0,NULL,NULL,1672),(1654622,'move','autoconfirmed',0,NULL,NULL,1673),(1654633,'edit','autoconfirmed',0,NULL,NULL,1674),(1654633,'move','autoconfirmed',0,NULL,NULL,1675),(1654645,'edit','autoconfirmed',0,NULL,NULL,1676),(1654645,'move','autoconfirmed',0,NULL,NULL,1677),(1654656,'edit','autoconfirmed',0,NULL,NULL,1682),(1654656,'move','autoconfirmed',0,NULL,NULL,1683),(1654662,'edit','autoconfirmed',0,NULL,NULL,1684),(1654662,'move','autoconfirmed',0,NULL,NULL,1685),(1654673,'edit','autoconfirmed',0,NULL,NULL,1686),(16\r\n",
      "\r\n",
      "gzip: stdout: Broken pipe\r\n"
     ]
    }
   ],
   "source": [
    "# Inspect the first 1000 characters of the page protections dump to see what it looks like\n",
    "# As you can see from the CREATE TABLE statement, each datapoint has 7 fields (pr_page, pr_type, ... , pr_id)\n",
    "# A description of the fields in the data can be found here:\n",
    "#   https://www.mediawiki.org/wiki/Manual:Page_restrictions_table\n",
    "# And the data that we want is on lines that start with INSERT INTO `page_restrictions` VALUES...\n",
    "# The first datapoint (1086732,'edit','sysop',0,NULL,'infinity',1307) can be interpreted as:\n",
    "#   1086732:    page ID 1086732 (en.wikipedia.org/wiki/?curid=1086732)\n",
    "#   'edit':     has edit protections\n",
    "#   'sysop':    that require sysop permissions (https://en.wikipedia.org/wiki/Wikipedia:User_access_levels#Administrator)\n",
    "#   0:          does not cascade to other pages\n",
    "#   NULL:       no user-specific restrictions\n",
    "#   'infinity': restriction does not expire automatically\n",
    "#   1307:       table primary key -- has no meaning by itself\n",
    "\n",
    "!zcat \"{DUMP_DIR}{DUMP_FN}\" | head -46 | cut -c1-1000"
   ]
  },
  {
   "cell_type": "code",
   "execution_count": 5,
   "metadata": {},
   "outputs": [],
   "source": [
    "# TODO: Complete example that loops through all page restrictions in the dump file above and extracts data\n",
    "# The Python gzip library will allow you to decompress the file for reading: https://docs.python.org/3/library/gzip.html#gzip.open\n",
    "#Data Extraction with gzip, for loop, statement and regex. \n",
    "\n",
    "Mediawiki= []\n",
    "with gzip.open(os.path.join(DUMP_DIR, DUMP_FN), 'r') as val:\n",
    "    for values in val.readlines():\n",
    "        if values.startswith(b'INSERT INTO `page_restrictions` VALUES'):\n",
    "            #The spliting on parentheses and then comma is solely for this data. It wouldnt be applicable if the data contains these characters in it itself \n",
    "            collections= re.findall(b'\\((.*?)\\)',values)\n",
    "            Mediawiki.extend(collections)         \n"
   ]
  },
  {
   "cell_type": "code",
   "execution_count": 6,
   "metadata": {},
   "outputs": [
    {
     "data": {
      "text/html": [
       "<div>\n",
       "<style scoped>\n",
       "    .dataframe tbody tr th:only-of-type {\n",
       "        vertical-align: middle;\n",
       "    }\n",
       "\n",
       "    .dataframe tbody tr th {\n",
       "        vertical-align: top;\n",
       "    }\n",
       "\n",
       "    .dataframe thead th {\n",
       "        text-align: right;\n",
       "    }\n",
       "</style>\n",
       "<table border=\"1\" class=\"dataframe\">\n",
       "  <thead>\n",
       "    <tr style=\"text-align: right;\">\n",
       "      <th></th>\n",
       "      <th>page_id</th>\n",
       "      <th>types_of_protection</th>\n",
       "      <th>levels_of_protection</th>\n",
       "      <th>cascading</th>\n",
       "      <th>per_user</th>\n",
       "      <th>expirations</th>\n",
       "      <th>foreign_key</th>\n",
       "    </tr>\n",
       "  </thead>\n",
       "  <tbody>\n",
       "    <tr>\n",
       "      <th>0</th>\n",
       "      <td>1086732</td>\n",
       "      <td>'edit'</td>\n",
       "      <td>'sysop'</td>\n",
       "      <td>0</td>\n",
       "      <td>NULL</td>\n",
       "      <td>'infinity'</td>\n",
       "      <td>1307</td>\n",
       "    </tr>\n",
       "    <tr>\n",
       "      <th>1</th>\n",
       "      <td>1086732</td>\n",
       "      <td>'move'</td>\n",
       "      <td>'sysop'</td>\n",
       "      <td>0</td>\n",
       "      <td>NULL</td>\n",
       "      <td>'infinity'</td>\n",
       "      <td>1308</td>\n",
       "    </tr>\n",
       "    <tr>\n",
       "      <th>2</th>\n",
       "      <td>1266562</td>\n",
       "      <td>'edit'</td>\n",
       "      <td>'autoconfirmed'</td>\n",
       "      <td>0</td>\n",
       "      <td>NULL</td>\n",
       "      <td>'infinity'</td>\n",
       "      <td>1358</td>\n",
       "    </tr>\n",
       "    <tr>\n",
       "      <th>3</th>\n",
       "      <td>1266562</td>\n",
       "      <td>'move'</td>\n",
       "      <td>'autoconfirmed'</td>\n",
       "      <td>0</td>\n",
       "      <td>NULL</td>\n",
       "      <td>'infinity'</td>\n",
       "      <td>1359</td>\n",
       "    </tr>\n",
       "    <tr>\n",
       "      <th>4</th>\n",
       "      <td>1534334</td>\n",
       "      <td>'edit'</td>\n",
       "      <td>'autoconfirmed'</td>\n",
       "      <td>0</td>\n",
       "      <td>NULL</td>\n",
       "      <td>NULL</td>\n",
       "      <td>1437</td>\n",
       "    </tr>\n",
       "    <tr>\n",
       "      <th>5</th>\n",
       "      <td>1534334</td>\n",
       "      <td>'move'</td>\n",
       "      <td>'autoconfirmed'</td>\n",
       "      <td>0</td>\n",
       "      <td>NULL</td>\n",
       "      <td>NULL</td>\n",
       "      <td>1438</td>\n",
       "    </tr>\n",
       "    <tr>\n",
       "      <th>6</th>\n",
       "      <td>1654125</td>\n",
       "      <td>'edit'</td>\n",
       "      <td>'autoconfirmed'</td>\n",
       "      <td>0</td>\n",
       "      <td>NULL</td>\n",
       "      <td>NULL</td>\n",
       "      <td>1664</td>\n",
       "    </tr>\n",
       "    <tr>\n",
       "      <th>7</th>\n",
       "      <td>1654125</td>\n",
       "      <td>'move'</td>\n",
       "      <td>'autoconfirmed'</td>\n",
       "      <td>0</td>\n",
       "      <td>NULL</td>\n",
       "      <td>NULL</td>\n",
       "      <td>1665</td>\n",
       "    </tr>\n",
       "    <tr>\n",
       "      <th>8</th>\n",
       "      <td>1654622</td>\n",
       "      <td>'edit'</td>\n",
       "      <td>'autoconfirmed'</td>\n",
       "      <td>0</td>\n",
       "      <td>NULL</td>\n",
       "      <td>NULL</td>\n",
       "      <td>1672</td>\n",
       "    </tr>\n",
       "    <tr>\n",
       "      <th>9</th>\n",
       "      <td>1654622</td>\n",
       "      <td>'move'</td>\n",
       "      <td>'autoconfirmed'</td>\n",
       "      <td>0</td>\n",
       "      <td>NULL</td>\n",
       "      <td>NULL</td>\n",
       "      <td>1673</td>\n",
       "    </tr>\n",
       "  </tbody>\n",
       "</table>\n",
       "</div>"
      ],
      "text/plain": [
       "   page_id types_of_protection levels_of_protection cascading per_user  \\\n",
       "0  1086732              'edit'              'sysop'         0     NULL   \n",
       "1  1086732              'move'              'sysop'         0     NULL   \n",
       "2  1266562              'edit'      'autoconfirmed'         0     NULL   \n",
       "3  1266562              'move'      'autoconfirmed'         0     NULL   \n",
       "4  1534334              'edit'      'autoconfirmed'         0     NULL   \n",
       "5  1534334              'move'      'autoconfirmed'         0     NULL   \n",
       "6  1654125              'edit'      'autoconfirmed'         0     NULL   \n",
       "7  1654125              'move'      'autoconfirmed'         0     NULL   \n",
       "8  1654622              'edit'      'autoconfirmed'         0     NULL   \n",
       "9  1654622              'move'      'autoconfirmed'         0     NULL   \n",
       "\n",
       "  expirations foreign_key  \n",
       "0  'infinity'        1307  \n",
       "1  'infinity'        1308  \n",
       "2  'infinity'        1358  \n",
       "3  'infinity'        1359  \n",
       "4        NULL        1437  \n",
       "5        NULL        1438  \n",
       "6        NULL        1664  \n",
       "7        NULL        1665  \n",
       "8        NULL        1672  \n",
       "9        NULL        1673  "
      ]
     },
     "execution_count": 6,
     "metadata": {},
     "output_type": "execute_result"
    }
   ],
   "source": [
    "#for lines in Mediawiki:\n",
    "    #lines.decode(encoding='UTF-8',errors='ignore').split(',')\n",
    "\n",
    "#Turning the comma separated list to a DataFrame    \n",
    "MediaWiki= pd.DataFrame((lines.decode(encoding='UTF-8',errors='ignore').split(',') for lines in Mediawiki), columns=['page_id', 'types_of_protection', 'levels_of_protection', 'cascading', 'per_user', 'expirations','foreign_key'])\n",
    "MediaWiki.head(10)     "
   ]
  },
  {
   "cell_type": "markdown",
   "metadata": {},
   "source": [
    "## Accessing the Page Protection APIs\n",
    "The [Page Protection API](https://www.mediawiki.org/w/api.php?action=help&modules=query%2Binfo) can be a much simpler way to access data about page protections for a given article if you know what articles you are interested in and are interested in relatively few articles (e.g., hundreds or low thousands).\n",
    "\n",
    "NOTE: the APIs are up-to-date while the Mediawiki dumps are always at least several days behind -- i.e. for specific snapshots in time -- so the data you get from the Mediawiki dumps might be different from the APIs if permissions have changed to a page's protections in the intervening days."
   ]
  },
  {
   "cell_type": "code",
   "execution_count": 7,
   "metadata": {},
   "outputs": [],
   "source": [
    "# TODO: add other libraries here as necessary\n",
    "import mwapi  # useful for accessing Wikimedia API\n",
    "import random #python module for generating data randomly\n"
   ]
  },
  {
   "cell_type": "code",
   "execution_count": 8,
   "metadata": {},
   "outputs": [],
   "source": [
    "# TODO: Gather ten random page IDs from the data gathered from the Mediawiki dump to get data for from the API\n",
    "rand_id= random.sample(list(MediaWiki['page_id']) ,10) \n",
    "ten_mediawiki= MediaWiki[MediaWiki['page_id'].isin(rand_id)].set_index('page_id') \n"
   ]
  },
  {
   "cell_type": "code",
   "execution_count": 9,
   "metadata": {},
   "outputs": [
    {
     "data": {
      "text/html": [
       "<div>\n",
       "<style scoped>\n",
       "    .dataframe tbody tr th:only-of-type {\n",
       "        vertical-align: middle;\n",
       "    }\n",
       "\n",
       "    .dataframe tbody tr th {\n",
       "        vertical-align: top;\n",
       "    }\n",
       "\n",
       "    .dataframe thead th {\n",
       "        text-align: right;\n",
       "    }\n",
       "</style>\n",
       "<table border=\"1\" class=\"dataframe\">\n",
       "  <thead>\n",
       "    <tr style=\"text-align: right;\">\n",
       "      <th></th>\n",
       "      <th>types_of_protection</th>\n",
       "      <th>levels_of_protection</th>\n",
       "      <th>cascading</th>\n",
       "      <th>per_user</th>\n",
       "      <th>expirations</th>\n",
       "      <th>foreign_key</th>\n",
       "    </tr>\n",
       "    <tr>\n",
       "      <th>page_id</th>\n",
       "      <th></th>\n",
       "      <th></th>\n",
       "      <th></th>\n",
       "      <th></th>\n",
       "      <th></th>\n",
       "      <th></th>\n",
       "    </tr>\n",
       "  </thead>\n",
       "  <tbody>\n",
       "    <tr>\n",
       "      <th>581018</th>\n",
       "      <td>'edit'</td>\n",
       "      <td>'extendedconfirmed'</td>\n",
       "      <td>0</td>\n",
       "      <td>NULL</td>\n",
       "      <td>'infinity'</td>\n",
       "      <td>851555</td>\n",
       "    </tr>\n",
       "    <tr>\n",
       "      <th>3887612</th>\n",
       "      <td>'move'</td>\n",
       "      <td>'templateeditor'</td>\n",
       "      <td>0</td>\n",
       "      <td>NULL</td>\n",
       "      <td>'infinity'</td>\n",
       "      <td>509366</td>\n",
       "    </tr>\n",
       "    <tr>\n",
       "      <th>3887612</th>\n",
       "      <td>'edit'</td>\n",
       "      <td>'templateeditor'</td>\n",
       "      <td>0</td>\n",
       "      <td>NULL</td>\n",
       "      <td>'infinity'</td>\n",
       "      <td>509365</td>\n",
       "    </tr>\n",
       "    <tr>\n",
       "      <th>17250697</th>\n",
       "      <td>'edit'</td>\n",
       "      <td>'autoconfirmed'</td>\n",
       "      <td>0</td>\n",
       "      <td>NULL</td>\n",
       "      <td>'infinity'</td>\n",
       "      <td>118750</td>\n",
       "    </tr>\n",
       "    <tr>\n",
       "      <th>17250697</th>\n",
       "      <td>'move'</td>\n",
       "      <td>'autoconfirmed'</td>\n",
       "      <td>0</td>\n",
       "      <td>NULL</td>\n",
       "      <td>'infinity'</td>\n",
       "      <td>118751</td>\n",
       "    </tr>\n",
       "    <tr>\n",
       "      <th>19507416</th>\n",
       "      <td>'move'</td>\n",
       "      <td>'sysop'</td>\n",
       "      <td>0</td>\n",
       "      <td>NULL</td>\n",
       "      <td>'infinity'</td>\n",
       "      <td>794058</td>\n",
       "    </tr>\n",
       "    <tr>\n",
       "      <th>19507416</th>\n",
       "      <td>'edit'</td>\n",
       "      <td>'sysop'</td>\n",
       "      <td>0</td>\n",
       "      <td>NULL</td>\n",
       "      <td>'infinity'</td>\n",
       "      <td>794057</td>\n",
       "    </tr>\n",
       "    <tr>\n",
       "      <th>19940811</th>\n",
       "      <td>'edit'</td>\n",
       "      <td>'templateeditor'</td>\n",
       "      <td>0</td>\n",
       "      <td>NULL</td>\n",
       "      <td>'infinity'</td>\n",
       "      <td>565232</td>\n",
       "    </tr>\n",
       "    <tr>\n",
       "      <th>19940811</th>\n",
       "      <td>'move'</td>\n",
       "      <td>'templateeditor'</td>\n",
       "      <td>0</td>\n",
       "      <td>NULL</td>\n",
       "      <td>'infinity'</td>\n",
       "      <td>565233</td>\n",
       "    </tr>\n",
       "    <tr>\n",
       "      <th>20204644</th>\n",
       "      <td>'edit'</td>\n",
       "      <td>'sysop'</td>\n",
       "      <td>0</td>\n",
       "      <td>NULL</td>\n",
       "      <td>'infinity'</td>\n",
       "      <td>187177</td>\n",
       "    </tr>\n",
       "    <tr>\n",
       "      <th>20204644</th>\n",
       "      <td>'move'</td>\n",
       "      <td>'sysop'</td>\n",
       "      <td>0</td>\n",
       "      <td>NULL</td>\n",
       "      <td>'infinity'</td>\n",
       "      <td>187178</td>\n",
       "    </tr>\n",
       "    <tr>\n",
       "      <th>21194417</th>\n",
       "      <td>'move'</td>\n",
       "      <td>'sysop'</td>\n",
       "      <td>0</td>\n",
       "      <td>NULL</td>\n",
       "      <td>'infinity'</td>\n",
       "      <td>553378</td>\n",
       "    </tr>\n",
       "    <tr>\n",
       "      <th>22911343</th>\n",
       "      <td>'edit'</td>\n",
       "      <td>'sysop'</td>\n",
       "      <td>0</td>\n",
       "      <td>NULL</td>\n",
       "      <td>'infinity'</td>\n",
       "      <td>226121</td>\n",
       "    </tr>\n",
       "    <tr>\n",
       "      <th>22911343</th>\n",
       "      <td>'move'</td>\n",
       "      <td>'sysop'</td>\n",
       "      <td>0</td>\n",
       "      <td>NULL</td>\n",
       "      <td>'infinity'</td>\n",
       "      <td>226122</td>\n",
       "    </tr>\n",
       "    <tr>\n",
       "      <th>43448771</th>\n",
       "      <td>'move'</td>\n",
       "      <td>'sysop'</td>\n",
       "      <td>0</td>\n",
       "      <td>NULL</td>\n",
       "      <td>'infinity'</td>\n",
       "      <td>544086</td>\n",
       "    </tr>\n",
       "    <tr>\n",
       "      <th>43448771</th>\n",
       "      <td>'edit'</td>\n",
       "      <td>'autoconfirmed'</td>\n",
       "      <td>0</td>\n",
       "      <td>NULL</td>\n",
       "      <td>'infinity'</td>\n",
       "      <td>544085</td>\n",
       "    </tr>\n",
       "    <tr>\n",
       "      <th>55833842</th>\n",
       "      <td>'edit'</td>\n",
       "      <td>'autoconfirmed'</td>\n",
       "      <td>0</td>\n",
       "      <td>NULL</td>\n",
       "      <td>'infinity'</td>\n",
       "      <td>704720</td>\n",
       "    </tr>\n",
       "    <tr>\n",
       "      <th>55833842</th>\n",
       "      <td>'move'</td>\n",
       "      <td>'autoconfirmed'</td>\n",
       "      <td>0</td>\n",
       "      <td>NULL</td>\n",
       "      <td>'infinity'</td>\n",
       "      <td>704721</td>\n",
       "    </tr>\n",
       "  </tbody>\n",
       "</table>\n",
       "</div>"
      ],
      "text/plain": [
       "         types_of_protection levels_of_protection cascading per_user  \\\n",
       "page_id                                                                \n",
       "581018                'edit'  'extendedconfirmed'         0     NULL   \n",
       "3887612               'move'     'templateeditor'         0     NULL   \n",
       "3887612               'edit'     'templateeditor'         0     NULL   \n",
       "17250697              'edit'      'autoconfirmed'         0     NULL   \n",
       "17250697              'move'      'autoconfirmed'         0     NULL   \n",
       "19507416              'move'              'sysop'         0     NULL   \n",
       "19507416              'edit'              'sysop'         0     NULL   \n",
       "19940811              'edit'     'templateeditor'         0     NULL   \n",
       "19940811              'move'     'templateeditor'         0     NULL   \n",
       "20204644              'edit'              'sysop'         0     NULL   \n",
       "20204644              'move'              'sysop'         0     NULL   \n",
       "21194417              'move'              'sysop'         0     NULL   \n",
       "22911343              'edit'              'sysop'         0     NULL   \n",
       "22911343              'move'              'sysop'         0     NULL   \n",
       "43448771              'move'              'sysop'         0     NULL   \n",
       "43448771              'edit'      'autoconfirmed'         0     NULL   \n",
       "55833842              'edit'      'autoconfirmed'         0     NULL   \n",
       "55833842              'move'      'autoconfirmed'         0     NULL   \n",
       "\n",
       "         expirations foreign_key  \n",
       "page_id                           \n",
       "581018    'infinity'      851555  \n",
       "3887612   'infinity'      509366  \n",
       "3887612   'infinity'      509365  \n",
       "17250697  'infinity'      118750  \n",
       "17250697  'infinity'      118751  \n",
       "19507416  'infinity'      794058  \n",
       "19507416  'infinity'      794057  \n",
       "19940811  'infinity'      565232  \n",
       "19940811  'infinity'      565233  \n",
       "20204644  'infinity'      187177  \n",
       "20204644  'infinity'      187178  \n",
       "21194417  'infinity'      553378  \n",
       "22911343  'infinity'      226121  \n",
       "22911343  'infinity'      226122  \n",
       "43448771  'infinity'      544086  \n",
       "43448771  'infinity'      544085  \n",
       "55833842  'infinity'      704720  \n",
       "55833842  'infinity'      704721  "
      ]
     },
     "execution_count": 9,
     "metadata": {},
     "output_type": "execute_result"
    }
   ],
   "source": [
    "ten_mediawiki.index= ten_mediawiki.index.astype(int) #change from string to integer \n",
    "ten_mediawiki.sort_index()"
   ]
  },
  {
   "cell_type": "code",
   "execution_count": 10,
   "metadata": {},
   "outputs": [],
   "source": [
    "# mwapi documentation: https://pypi.org/project/mwapi/\n",
    "# user_agent helps identify the request if there's an issue and is best practice\n",
    "tutorial_label = 'Page Protection API tutorial (mwapi)'\n",
    "# NOTE: it is best practice to include a contact email in user agents\n",
    "# generally this is private information though so do not change it to yours\n",
    "# if you are working in the PAWS environment or adding to a Github repo\n",
    "# for Outreachy, you can leave this as my (isaac's) email or switch it to your Mediawiki username\n",
    "# e.g., Isaac (WMF) for https://www.mediawiki.org/wiki/User:Isaac_(WMF)\n",
    "contact_email = 'isaac@wikimedia.org'\n",
    "session = mwapi.Session('https://{0}.org'.format(SITENAME), user_agent='{0} -- {1}'.format(tutorial_label, contact_email))\n",
    "\n",
    "# TODO: You'll have to add additional parameters here to query the pages you're interested in\n",
    "# API endpoint: https://www.mediawiki.org/w/api.php?action=help&modules=query%2Binfo\n",
    "# More details: https://www.mediawiki.org/wiki/API:Info\n",
    "params = {'action':'query',\n",
    "          'inprop': 'protection',\n",
    "          'pageids': \"|\".join(rand_id),\n",
    "          'intestactionsdetail': 'boolean',\n",
    "          'prop':'info'}\n"
   ]
  },
  {
   "cell_type": "code",
   "execution_count": 11,
   "metadata": {},
   "outputs": [],
   "source": [
    "# TODO: make request to API for data\n",
    "req= session.get(params)"
   ]
  },
  {
   "cell_type": "code",
   "execution_count": 12,
   "metadata": {},
   "outputs": [],
   "source": [
    "request= req['query']['pages']\n",
    "request= pd.DataFrame(request).T"
   ]
  },
  {
   "cell_type": "code",
   "execution_count": 13,
   "metadata": {},
   "outputs": [
    {
     "data": {
      "text/html": [
       "<div>\n",
       "<style scoped>\n",
       "    .dataframe tbody tr th:only-of-type {\n",
       "        vertical-align: middle;\n",
       "    }\n",
       "\n",
       "    .dataframe tbody tr th {\n",
       "        vertical-align: top;\n",
       "    }\n",
       "\n",
       "    .dataframe thead th {\n",
       "        text-align: right;\n",
       "    }\n",
       "</style>\n",
       "<table border=\"1\" class=\"dataframe\">\n",
       "  <thead>\n",
       "    <tr style=\"text-align: right;\">\n",
       "      <th></th>\n",
       "      <th></th>\n",
       "      <th>type</th>\n",
       "      <th>level</th>\n",
       "      <th>expiry</th>\n",
       "      <th>source</th>\n",
       "    </tr>\n",
       "    <tr>\n",
       "      <th>pageid</th>\n",
       "      <th></th>\n",
       "      <th></th>\n",
       "      <th></th>\n",
       "      <th></th>\n",
       "      <th></th>\n",
       "    </tr>\n",
       "  </thead>\n",
       "  <tbody>\n",
       "    <tr>\n",
       "      <th>581018</th>\n",
       "      <th>0</th>\n",
       "      <td>edit</td>\n",
       "      <td>extendedconfirmed</td>\n",
       "      <td>infinity</td>\n",
       "      <td>NaN</td>\n",
       "    </tr>\n",
       "    <tr>\n",
       "      <th rowspan=\"2\" valign=\"top\">3887612</th>\n",
       "      <th>0</th>\n",
       "      <td>edit</td>\n",
       "      <td>templateeditor</td>\n",
       "      <td>infinity</td>\n",
       "      <td>NaN</td>\n",
       "    </tr>\n",
       "    <tr>\n",
       "      <th>1</th>\n",
       "      <td>move</td>\n",
       "      <td>templateeditor</td>\n",
       "      <td>infinity</td>\n",
       "      <td>NaN</td>\n",
       "    </tr>\n",
       "    <tr>\n",
       "      <th rowspan=\"2\" valign=\"top\">17250697</th>\n",
       "      <th>0</th>\n",
       "      <td>edit</td>\n",
       "      <td>autoconfirmed</td>\n",
       "      <td>infinity</td>\n",
       "      <td>NaN</td>\n",
       "    </tr>\n",
       "    <tr>\n",
       "      <th>1</th>\n",
       "      <td>move</td>\n",
       "      <td>autoconfirmed</td>\n",
       "      <td>infinity</td>\n",
       "      <td>NaN</td>\n",
       "    </tr>\n",
       "    <tr>\n",
       "      <th rowspan=\"3\" valign=\"top\">19507416</th>\n",
       "      <th>0</th>\n",
       "      <td>edit</td>\n",
       "      <td>sysop</td>\n",
       "      <td>infinity</td>\n",
       "      <td>NaN</td>\n",
       "    </tr>\n",
       "    <tr>\n",
       "      <th>1</th>\n",
       "      <td>move</td>\n",
       "      <td>sysop</td>\n",
       "      <td>infinity</td>\n",
       "      <td>NaN</td>\n",
       "    </tr>\n",
       "    <tr>\n",
       "      <th>2</th>\n",
       "      <td>edit</td>\n",
       "      <td>sysop</td>\n",
       "      <td>infinity</td>\n",
       "      <td>Wikipedia:Cascade-protected items/content</td>\n",
       "    </tr>\n",
       "    <tr>\n",
       "      <th rowspan=\"2\" valign=\"top\">19940811</th>\n",
       "      <th>0</th>\n",
       "      <td>edit</td>\n",
       "      <td>templateeditor</td>\n",
       "      <td>infinity</td>\n",
       "      <td>NaN</td>\n",
       "    </tr>\n",
       "    <tr>\n",
       "      <th>1</th>\n",
       "      <td>move</td>\n",
       "      <td>templateeditor</td>\n",
       "      <td>infinity</td>\n",
       "      <td>NaN</td>\n",
       "    </tr>\n",
       "    <tr>\n",
       "      <th rowspan=\"2\" valign=\"top\">20204644</th>\n",
       "      <th>0</th>\n",
       "      <td>edit</td>\n",
       "      <td>sysop</td>\n",
       "      <td>infinity</td>\n",
       "      <td>NaN</td>\n",
       "    </tr>\n",
       "    <tr>\n",
       "      <th>1</th>\n",
       "      <td>move</td>\n",
       "      <td>sysop</td>\n",
       "      <td>infinity</td>\n",
       "      <td>NaN</td>\n",
       "    </tr>\n",
       "    <tr>\n",
       "      <th>21194417</th>\n",
       "      <th>0</th>\n",
       "      <td>move</td>\n",
       "      <td>sysop</td>\n",
       "      <td>infinity</td>\n",
       "      <td>NaN</td>\n",
       "    </tr>\n",
       "    <tr>\n",
       "      <th rowspan=\"2\" valign=\"top\">22911343</th>\n",
       "      <th>0</th>\n",
       "      <td>edit</td>\n",
       "      <td>sysop</td>\n",
       "      <td>infinity</td>\n",
       "      <td>NaN</td>\n",
       "    </tr>\n",
       "    <tr>\n",
       "      <th>1</th>\n",
       "      <td>move</td>\n",
       "      <td>sysop</td>\n",
       "      <td>infinity</td>\n",
       "      <td>NaN</td>\n",
       "    </tr>\n",
       "    <tr>\n",
       "      <th rowspan=\"2\" valign=\"top\">43448771</th>\n",
       "      <th>0</th>\n",
       "      <td>edit</td>\n",
       "      <td>autoconfirmed</td>\n",
       "      <td>infinity</td>\n",
       "      <td>NaN</td>\n",
       "    </tr>\n",
       "    <tr>\n",
       "      <th>1</th>\n",
       "      <td>move</td>\n",
       "      <td>sysop</td>\n",
       "      <td>infinity</td>\n",
       "      <td>NaN</td>\n",
       "    </tr>\n",
       "    <tr>\n",
       "      <th rowspan=\"2\" valign=\"top\">55833842</th>\n",
       "      <th>0</th>\n",
       "      <td>edit</td>\n",
       "      <td>autoconfirmed</td>\n",
       "      <td>infinity</td>\n",
       "      <td>NaN</td>\n",
       "    </tr>\n",
       "    <tr>\n",
       "      <th>1</th>\n",
       "      <td>move</td>\n",
       "      <td>autoconfirmed</td>\n",
       "      <td>infinity</td>\n",
       "      <td>NaN</td>\n",
       "    </tr>\n",
       "  </tbody>\n",
       "</table>\n",
       "</div>"
      ],
      "text/plain": [
       "            type              level    expiry  \\\n",
       "pageid                                          \n",
       "581018   0  edit  extendedconfirmed  infinity   \n",
       "3887612  0  edit     templateeditor  infinity   \n",
       "         1  move     templateeditor  infinity   \n",
       "17250697 0  edit      autoconfirmed  infinity   \n",
       "         1  move      autoconfirmed  infinity   \n",
       "19507416 0  edit              sysop  infinity   \n",
       "         1  move              sysop  infinity   \n",
       "         2  edit              sysop  infinity   \n",
       "19940811 0  edit     templateeditor  infinity   \n",
       "         1  move     templateeditor  infinity   \n",
       "20204644 0  edit              sysop  infinity   \n",
       "         1  move              sysop  infinity   \n",
       "21194417 0  move              sysop  infinity   \n",
       "22911343 0  edit              sysop  infinity   \n",
       "         1  move              sysop  infinity   \n",
       "43448771 0  edit      autoconfirmed  infinity   \n",
       "         1  move              sysop  infinity   \n",
       "55833842 0  edit      autoconfirmed  infinity   \n",
       "         1  move      autoconfirmed  infinity   \n",
       "\n",
       "                                               source  \n",
       "pageid                                                 \n",
       "581018   0                                        NaN  \n",
       "3887612  0                                        NaN  \n",
       "         1                                        NaN  \n",
       "17250697 0                                        NaN  \n",
       "         1                                        NaN  \n",
       "19507416 0                                        NaN  \n",
       "         1                                        NaN  \n",
       "         2  Wikipedia:Cascade-protected items/content  \n",
       "19940811 0                                        NaN  \n",
       "         1                                        NaN  \n",
       "20204644 0                                        NaN  \n",
       "         1                                        NaN  \n",
       "21194417 0                                        NaN  \n",
       "22911343 0                                        NaN  \n",
       "         1                                        NaN  \n",
       "43448771 0                                        NaN  \n",
       "         1                                        NaN  \n",
       "55833842 0                                        NaN  \n",
       "         1                                        NaN  "
      ]
     },
     "execution_count": 13,
     "metadata": {},
     "output_type": "execute_result"
    }
   ],
   "source": [
    "# TODO: examine API results and compare to data from Mediawiki dump to see if they are the same and explain any discrepancies\n",
    "variable= request['protection']\n",
    "index= request['pageid'].reset_index(drop= True, level=0)\n",
    "venus= [pd.DataFrame(i) for i in variable]\n",
    "#Turning the protection data to a dataframe for us to compare them easily\n",
    "prot_data= pd.concat(venus, keys= index, axis= 0)\n",
    "prot_data"
   ]
  },
  {
   "cell_type": "markdown",
   "metadata": {},
   "source": [
    "From the comparison of both the API and the MEDIAWIKI Dump file, I've been able to deduce that;\n",
    "\n",
    "1. They both contain the same data and info\n",
    "2. The API Data has more current information than the Mediawiki data which is seen to be behind. However, looking from the page id 8778099, the API Data contain duplicate values as well\n"
   ]
  },
  {
   "cell_type": "markdown",
   "metadata": {},
   "source": [
    "## Example Analyses of Page Protection Data\n",
    "Here we show some examples of things we can do with the data that we gathered about the protections for various Wikipedia articles. You'll want to come up with some questions to ask of the data as well. For this, you might need to gather additional data such as:\n",
    "* The [page table](https://www.mediawiki.org/wiki/Manual:Page_table), which, for example, can be found in the `DUMP_DIR` under the name `{LANGUAGE}-latest-page.sql.gz`\n",
    "* Selecting a sample of, for example, 100 articles and getting additional information about them from other [API endpoints](https://www.mediawiki.org/wiki/API:Properties)."
   ]
  },
  {
   "cell_type": "code",
   "execution_count": 14,
   "metadata": {},
   "outputs": [],
   "source": [
    "# TODO: add any imports of data analysis / visualization libraries here as necessary\n",
    "import seaborn as sns #for visualization\n",
    "import matplotlib.pyplot as plt\n",
    "%matplotlib inline\n",
    "plt.style.use('ggplot')\n",
    "\n",
    "DUMP_DIR= \"/public/dumps/public/{0}/latest/\".format(LANGUAGE)\n",
    "PG_TABLE= \"{0}-latest-page.sql.gz\".format(LANGUAGE)"
   ]
  },
  {
   "cell_type": "code",
   "execution_count": 15,
   "metadata": {},
   "outputs": [
    {
     "name": "stdout",
     "output_type": "stream",
     "text": [
      "\r\n",
      "gzip: stdout: Broken pipe\r\n",
      "-- MySQL dump 10.16  Distrib 10.1.45-MariaDB, for debian-linux-gnu (x86_64)\r\n",
      "--\r\n",
      "-- Host: 10.64.48.13    Database: enwiki\r\n",
      "-- ------------------------------------------------------\r\n",
      "-- Server version\t10.1.43-MariaDB\r\n",
      "\r\n",
      "/*!40101 SET @OLD_CHARACTER_SET_CLIENT=@@CHARACTER_SET_CLIENT */;\r\n",
      "/*!40101 SET @OLD_CHARACTER_SET_RESULTS=@@CHARACTER_SET_RESULTS */;\r\n",
      "/*!40101 SET @OLD_COLLATION_CONNECTION=@@COLLATION_CONNECTION */;\r\n",
      "/*!40101 SET NAMES utf8mb4 */;\r\n",
      "/*!40103 SET @OLD_TIME_ZONE=@@TIME_ZONE */;\r\n",
      "/*!40103 SET TIME_ZONE='+00:00' */;\r\n",
      "/*!40014 SET @OLD_UNIQUE_CHECKS=@@UNIQUE_CHECKS, UNIQUE_CHECKS=0 */;\r\n",
      "/*!40014 SET @OLD_FOREIGN_KEY_CHECKS=@@FOREIGN_KEY_CHECKS, FOREIGN_KEY_CHECKS=0 */;\r\n",
      "/*!40101 SET @OLD_SQL_MODE=@@SQL_MODE, SQL_MODE='NO_AUTO_VALUE_ON_ZERO' */;\r\n",
      "/*!40111 SET @OLD_SQL_NOTES=@@SQL_NOTES, SQL_NOTES=0 */;\r\n",
      "\r\n",
      "--\r\n",
      "-- Table structure for table `page`\r\n",
      "--\r\n",
      "\r\n",
      "DROP TABLE IF EXISTS `page`;\r\n",
      "/*!40101 SET @saved_cs_client     = @@character_set_client */;\r\n",
      "/*!40101 SET character_set_client = utf8 */;\r\n",
      "CREATE TABLE `page` (\r\n",
      "  `page_id` int(8) unsigned NOT NULL AUTO_INCREMENT,\r\n",
      "  `page_namespace` int(11) NOT NULL DEFAULT '0',\r\n",
      "  `page_title` varbinary(255) NOT NULL DEFAULT '',\r\n",
      "  `page_restrictions` tinyblob,\r\n",
      "  `page_is_redirect` tinyint(1) unsigned NOT NULL DEFAULT '0',\r\n",
      "  `page_is_new` tinyint(1) unsigned NOT NULL DEFAULT '0',\r\n",
      "  `page_random` double unsigned NOT NULL DEFAULT '0',\r\n",
      "  `page_touched` varbinary(14) NOT NULL DEFAULT '',\r\n",
      "  `page_links_updated` varbinary(14) DEFAULT NULL,\r\n",
      "  `page_latest` int(8) unsigned NOT NULL DEFAULT '0',\r\n",
      "  `page_len` int(8) unsigned NOT NULL DEFAULT '0',\r\n",
      "  `page_content_model` varbinary(32) DEFAULT NULL,\r\n",
      "  `page_lang` varbinary(35) DEFAULT NULL,\r\n",
      "  PRIMARY KEY (`page_id`),\r\n",
      "  UNIQUE KEY `name_title` (`page_namespace`,`page_title`),\r\n"
     ]
    }
   ],
   "source": [
    "!zcat \"{DUMP_DIR}{PG_TABLE}\" | head -40 | cut -c1-3000"
   ]
  },
  {
   "cell_type": "markdown",
   "metadata": {},
   "source": [
    "## Quering More Data for the Protected PageID\n"
   ]
  },
  {
   "cell_type": "markdown",
   "metadata": {},
   "source": [
    "In other to make better analysis, we are using random samples generated from the Mediawiki data to query more API pages   "
   ]
  },
  {
   "cell_type": "code",
   "execution_count": 16,
   "metadata": {},
   "outputs": [],
   "source": [
    "def more_ids(page, properties):\n",
    "    \n",
    "    #Here we are reducing the list of page ids to be queried to 50 because that is the ideal number that can be queried at once\n",
    "    page_reduce = [page[x:x + 50] for x in range(0, len(page),50)] \n",
    "    \n",
    "    All= {} #setting all to an empty dictionary\n",
    "    \n",
    "    #Here we loop through eavh of the 50 page ids\n",
    "    for pages in page_reduce:\n",
    "        parameters= {\"action\":\"query\",\n",
    "                     \"inprop\": properties,\n",
    "                     \"prop\": \"info\",\n",
    "                     \"pageids\":'|'.join(map(str, pages)),\n",
    "                    }\n",
    "\n",
    "        \n",
    "        data= session.get(parameters)\n",
    "        \n",
    "        #The queried data is been added to the All empty dict\n",
    "        All.update(data['query']['pages'])\n",
    "        \n",
    "    return All\n",
    "\n",
    "#Here we queried API for more data on each of these pages separated by \"|\"\n",
    "properties= \"watched|protection|visitingwatchers|talkid|watchers|subjectid\""
   ]
  },
  {
   "cell_type": "code",
   "execution_count": 17,
   "metadata": {},
   "outputs": [],
   "source": [
    "#generate data randomly  from the mediawiki\n",
    "\n",
    "series = pd.Series(MediaWiki.page_id)\n",
    "rand_gen= series.sample(1000, random_state=42).values\n",
    "req_data =more_ids(rand_gen, properties)\n",
    "\n",
    "#Transforming into a dataframe\n",
    "protection_data = pd.DataFrame(req_data).T"
   ]
  },
  {
   "cell_type": "markdown",
   "metadata": {},
   "source": [
    "### Descriptive statistics\n",
    "TODO: give an overview of basic details about page protections and any conclusions you reach based on the analyses you do below"
   ]
  },
  {
   "cell_type": "markdown",
   "metadata": {},
   "source": [
    "Detailed Analysis of Our Data"
   ]
  },
  {
   "cell_type": "code",
   "execution_count": 18,
   "metadata": {},
   "outputs": [
    {
     "data": {
      "text/html": [
       "<div>\n",
       "<style scoped>\n",
       "    .dataframe tbody tr th:only-of-type {\n",
       "        vertical-align: middle;\n",
       "    }\n",
       "\n",
       "    .dataframe tbody tr th {\n",
       "        vertical-align: top;\n",
       "    }\n",
       "\n",
       "    .dataframe thead th {\n",
       "        text-align: right;\n",
       "    }\n",
       "</style>\n",
       "<table border=\"1\" class=\"dataframe\">\n",
       "  <thead>\n",
       "    <tr style=\"text-align: right;\">\n",
       "      <th></th>\n",
       "      <th>pageid</th>\n",
       "      <th>missing</th>\n",
       "      <th>ns</th>\n",
       "      <th>title</th>\n",
       "      <th>contentmodel</th>\n",
       "      <th>pagelanguage</th>\n",
       "      <th>pagelanguagehtmlcode</th>\n",
       "      <th>pagelanguagedir</th>\n",
       "      <th>touched</th>\n",
       "      <th>lastrevid</th>\n",
       "      <th>length</th>\n",
       "      <th>protection</th>\n",
       "      <th>restrictiontypes</th>\n",
       "      <th>watchers</th>\n",
       "      <th>visitingwatchers</th>\n",
       "      <th>talkid</th>\n",
       "      <th>redirect</th>\n",
       "      <th>subjectid</th>\n",
       "      <th>new</th>\n",
       "    </tr>\n",
       "  </thead>\n",
       "  <tbody>\n",
       "    <tr>\n",
       "      <th>28161281</th>\n",
       "      <td>28161281</td>\n",
       "      <td></td>\n",
       "      <td>NaN</td>\n",
       "      <td>NaN</td>\n",
       "      <td>NaN</td>\n",
       "      <td>NaN</td>\n",
       "      <td>NaN</td>\n",
       "      <td>NaN</td>\n",
       "      <td>NaN</td>\n",
       "      <td>NaN</td>\n",
       "      <td>NaN</td>\n",
       "      <td>NaN</td>\n",
       "      <td>NaN</td>\n",
       "      <td>NaN</td>\n",
       "      <td>NaN</td>\n",
       "      <td>NaN</td>\n",
       "      <td>NaN</td>\n",
       "      <td>NaN</td>\n",
       "      <td>NaN</td>\n",
       "    </tr>\n",
       "    <tr>\n",
       "      <th>20778</th>\n",
       "      <td>20778</td>\n",
       "      <td>NaN</td>\n",
       "      <td>0</td>\n",
       "      <td>Misandry</td>\n",
       "      <td>wikitext</td>\n",
       "      <td>en</td>\n",
       "      <td>en</td>\n",
       "      <td>ltr</td>\n",
       "      <td>2020-10-30T17:07:04Z</td>\n",
       "      <td>985890230</td>\n",
       "      <td>27587</td>\n",
       "      <td>[{'type': 'edit', 'level': 'autoconfirmed', 'e...</td>\n",
       "      <td>[edit, move]</td>\n",
       "      <td>373</td>\n",
       "      <td>34</td>\n",
       "      <td>47175</td>\n",
       "      <td>NaN</td>\n",
       "      <td>NaN</td>\n",
       "      <td>NaN</td>\n",
       "    </tr>\n",
       "    <tr>\n",
       "      <th>1207714</th>\n",
       "      <td>1207714</td>\n",
       "      <td>NaN</td>\n",
       "      <td>4</td>\n",
       "      <td>Wikipedia:Today's featured article/November 8,...</td>\n",
       "      <td>wikitext</td>\n",
       "      <td>en</td>\n",
       "      <td>en</td>\n",
       "      <td>ltr</td>\n",
       "      <td>2020-05-16T16:11:26Z</td>\n",
       "      <td>27104891</td>\n",
       "      <td>1525</td>\n",
       "      <td>[{'type': 'edit', 'level': 'sysop', 'expiry': ...</td>\n",
       "      <td>[edit, move]</td>\n",
       "      <td>NaN</td>\n",
       "      <td>NaN</td>\n",
       "      <td>NaN</td>\n",
       "      <td>NaN</td>\n",
       "      <td>NaN</td>\n",
       "      <td>NaN</td>\n",
       "    </tr>\n",
       "    <tr>\n",
       "      <th>1426343</th>\n",
       "      <td>1426343</td>\n",
       "      <td>NaN</td>\n",
       "      <td>0</td>\n",
       "      <td>Apostolic Lutheran Church of America</td>\n",
       "      <td>wikitext</td>\n",
       "      <td>en</td>\n",
       "      <td>en</td>\n",
       "      <td>ltr</td>\n",
       "      <td>2020-10-13T18:41:23Z</td>\n",
       "      <td>983347921</td>\n",
       "      <td>6617</td>\n",
       "      <td>[{'type': 'edit', 'level': 'autoconfirmed', 'e...</td>\n",
       "      <td>[edit, move]</td>\n",
       "      <td>NaN</td>\n",
       "      <td>NaN</td>\n",
       "      <td>2352893</td>\n",
       "      <td>NaN</td>\n",
       "      <td>NaN</td>\n",
       "      <td>NaN</td>\n",
       "    </tr>\n",
       "    <tr>\n",
       "      <th>1431859</th>\n",
       "      <td>1431859</td>\n",
       "      <td>NaN</td>\n",
       "      <td>10</td>\n",
       "      <td>Template:Pp-main-page</td>\n",
       "      <td>wikitext</td>\n",
       "      <td>en</td>\n",
       "      <td>en</td>\n",
       "      <td>ltr</td>\n",
       "      <td>2020-10-05T08:35:57Z</td>\n",
       "      <td>778048312</td>\n",
       "      <td>44</td>\n",
       "      <td>[{'type': 'edit', 'level': 'sysop', 'expiry': ...</td>\n",
       "      <td>[edit, move]</td>\n",
       "      <td>NaN</td>\n",
       "      <td>NaN</td>\n",
       "      <td>3975907</td>\n",
       "      <td></td>\n",
       "      <td>NaN</td>\n",
       "      <td>NaN</td>\n",
       "    </tr>\n",
       "  </tbody>\n",
       "</table>\n",
       "</div>"
      ],
      "text/plain": [
       "            pageid missing   ns  \\\n",
       "28161281  28161281          NaN   \n",
       "20778        20778     NaN    0   \n",
       "1207714    1207714     NaN    4   \n",
       "1426343    1426343     NaN    0   \n",
       "1431859    1431859     NaN   10   \n",
       "\n",
       "                                                      title contentmodel  \\\n",
       "28161281                                                NaN          NaN   \n",
       "20778                                              Misandry     wikitext   \n",
       "1207714   Wikipedia:Today's featured article/November 8,...     wikitext   \n",
       "1426343                Apostolic Lutheran Church of America     wikitext   \n",
       "1431859                               Template:Pp-main-page     wikitext   \n",
       "\n",
       "         pagelanguage pagelanguagehtmlcode pagelanguagedir  \\\n",
       "28161281          NaN                  NaN             NaN   \n",
       "20778              en                   en             ltr   \n",
       "1207714            en                   en             ltr   \n",
       "1426343            en                   en             ltr   \n",
       "1431859            en                   en             ltr   \n",
       "\n",
       "                       touched  lastrevid length  \\\n",
       "28161281                   NaN        NaN    NaN   \n",
       "20778     2020-10-30T17:07:04Z  985890230  27587   \n",
       "1207714   2020-05-16T16:11:26Z   27104891   1525   \n",
       "1426343   2020-10-13T18:41:23Z  983347921   6617   \n",
       "1431859   2020-10-05T08:35:57Z  778048312     44   \n",
       "\n",
       "                                                 protection restrictiontypes  \\\n",
       "28161281                                                NaN              NaN   \n",
       "20778     [{'type': 'edit', 'level': 'autoconfirmed', 'e...     [edit, move]   \n",
       "1207714   [{'type': 'edit', 'level': 'sysop', 'expiry': ...     [edit, move]   \n",
       "1426343   [{'type': 'edit', 'level': 'autoconfirmed', 'e...     [edit, move]   \n",
       "1431859   [{'type': 'edit', 'level': 'sysop', 'expiry': ...     [edit, move]   \n",
       "\n",
       "         watchers visitingwatchers   talkid redirect subjectid  new  \n",
       "28161281      NaN              NaN      NaN      NaN       NaN  NaN  \n",
       "20778         373               34    47175      NaN       NaN  NaN  \n",
       "1207714       NaN              NaN      NaN      NaN       NaN  NaN  \n",
       "1426343       NaN              NaN  2352893      NaN       NaN  NaN  \n",
       "1431859       NaN              NaN  3975907                NaN  NaN  "
      ]
     },
     "execution_count": 18,
     "metadata": {},
     "output_type": "execute_result"
    }
   ],
   "source": [
    "# TODO: do basic analyses here to understand the data\n",
    "protection_data.head()"
   ]
  },
  {
   "cell_type": "code",
   "execution_count": 19,
   "metadata": {},
   "outputs": [
    {
     "data": {
      "text/html": [
       "<div>\n",
       "<style scoped>\n",
       "    .dataframe tbody tr th:only-of-type {\n",
       "        vertical-align: middle;\n",
       "    }\n",
       "\n",
       "    .dataframe tbody tr th {\n",
       "        vertical-align: top;\n",
       "    }\n",
       "\n",
       "    .dataframe thead th {\n",
       "        text-align: right;\n",
       "    }\n",
       "</style>\n",
       "<table border=\"1\" class=\"dataframe\">\n",
       "  <thead>\n",
       "    <tr style=\"text-align: right;\">\n",
       "      <th></th>\n",
       "      <th>missing</th>\n",
       "      <th>ns</th>\n",
       "      <th>title</th>\n",
       "      <th>contentmodel</th>\n",
       "      <th>pagelanguage</th>\n",
       "      <th>pagelanguagehtmlcode</th>\n",
       "      <th>pagelanguagedir</th>\n",
       "      <th>touched</th>\n",
       "      <th>lastrevid</th>\n",
       "      <th>length</th>\n",
       "      <th>...</th>\n",
       "      <th>watchers</th>\n",
       "      <th>visitingwatchers</th>\n",
       "      <th>talkid</th>\n",
       "      <th>redirect</th>\n",
       "      <th>subjectid</th>\n",
       "      <th>new</th>\n",
       "      <th>type</th>\n",
       "      <th>level</th>\n",
       "      <th>expiry</th>\n",
       "      <th>source</th>\n",
       "    </tr>\n",
       "    <tr>\n",
       "      <th>pageid</th>\n",
       "      <th></th>\n",
       "      <th></th>\n",
       "      <th></th>\n",
       "      <th></th>\n",
       "      <th></th>\n",
       "      <th></th>\n",
       "      <th></th>\n",
       "      <th></th>\n",
       "      <th></th>\n",
       "      <th></th>\n",
       "      <th></th>\n",
       "      <th></th>\n",
       "      <th></th>\n",
       "      <th></th>\n",
       "      <th></th>\n",
       "      <th></th>\n",
       "      <th></th>\n",
       "      <th></th>\n",
       "      <th></th>\n",
       "      <th></th>\n",
       "      <th></th>\n",
       "    </tr>\n",
       "  </thead>\n",
       "  <tbody>\n",
       "    <tr>\n",
       "      <th>620</th>\n",
       "      <td>NaN</td>\n",
       "      <td>0</td>\n",
       "      <td>Animal Farm</td>\n",
       "      <td>wikitext</td>\n",
       "      <td>en</td>\n",
       "      <td>en</td>\n",
       "      <td>ltr</td>\n",
       "      <td>2020-10-30T03:41:58Z</td>\n",
       "      <td>986084052</td>\n",
       "      <td>72645</td>\n",
       "      <td>...</td>\n",
       "      <td>582</td>\n",
       "      <td>56</td>\n",
       "      <td>182359</td>\n",
       "      <td>NaN</td>\n",
       "      <td>NaN</td>\n",
       "      <td>NaN</td>\n",
       "      <td>edit</td>\n",
       "      <td>autoconfirmed</td>\n",
       "      <td>infinity</td>\n",
       "      <td>NaN</td>\n",
       "    </tr>\n",
       "    <tr>\n",
       "      <th>620</th>\n",
       "      <td>NaN</td>\n",
       "      <td>0</td>\n",
       "      <td>Animal Farm</td>\n",
       "      <td>wikitext</td>\n",
       "      <td>en</td>\n",
       "      <td>en</td>\n",
       "      <td>ltr</td>\n",
       "      <td>2020-10-30T03:41:58Z</td>\n",
       "      <td>986084052</td>\n",
       "      <td>72645</td>\n",
       "      <td>...</td>\n",
       "      <td>582</td>\n",
       "      <td>56</td>\n",
       "      <td>182359</td>\n",
       "      <td>NaN</td>\n",
       "      <td>NaN</td>\n",
       "      <td>NaN</td>\n",
       "      <td>move</td>\n",
       "      <td>sysop</td>\n",
       "      <td>infinity</td>\n",
       "      <td>NaN</td>\n",
       "    </tr>\n",
       "    <tr>\n",
       "      <th>2187</th>\n",
       "      <td>NaN</td>\n",
       "      <td>0</td>\n",
       "      <td>Antisemitism in the Arab world</td>\n",
       "      <td>wikitext</td>\n",
       "      <td>en</td>\n",
       "      <td>en</td>\n",
       "      <td>ltr</td>\n",
       "      <td>2020-10-29T19:53:46Z</td>\n",
       "      <td>984346437</td>\n",
       "      <td>55458</td>\n",
       "      <td>...</td>\n",
       "      <td>177</td>\n",
       "      <td>NaN</td>\n",
       "      <td>3069</td>\n",
       "      <td>NaN</td>\n",
       "      <td>NaN</td>\n",
       "      <td>NaN</td>\n",
       "      <td>edit</td>\n",
       "      <td>extendedconfirmed</td>\n",
       "      <td>infinity</td>\n",
       "      <td>NaN</td>\n",
       "    </tr>\n",
       "    <tr>\n",
       "      <th>2187</th>\n",
       "      <td>NaN</td>\n",
       "      <td>0</td>\n",
       "      <td>Antisemitism in the Arab world</td>\n",
       "      <td>wikitext</td>\n",
       "      <td>en</td>\n",
       "      <td>en</td>\n",
       "      <td>ltr</td>\n",
       "      <td>2020-10-29T19:53:46Z</td>\n",
       "      <td>984346437</td>\n",
       "      <td>55458</td>\n",
       "      <td>...</td>\n",
       "      <td>177</td>\n",
       "      <td>NaN</td>\n",
       "      <td>3069</td>\n",
       "      <td>NaN</td>\n",
       "      <td>NaN</td>\n",
       "      <td>NaN</td>\n",
       "      <td>move</td>\n",
       "      <td>extendedconfirmed</td>\n",
       "      <td>infinity</td>\n",
       "      <td>NaN</td>\n",
       "    </tr>\n",
       "    <tr>\n",
       "      <th>2417</th>\n",
       "      <td>NaN</td>\n",
       "      <td>0</td>\n",
       "      <td>Alicante</td>\n",
       "      <td>wikitext</td>\n",
       "      <td>en</td>\n",
       "      <td>en</td>\n",
       "      <td>ltr</td>\n",
       "      <td>2020-10-30T16:53:25Z</td>\n",
       "      <td>979201708</td>\n",
       "      <td>45906</td>\n",
       "      <td>...</td>\n",
       "      <td>102</td>\n",
       "      <td>NaN</td>\n",
       "      <td>851735</td>\n",
       "      <td>NaN</td>\n",
       "      <td>NaN</td>\n",
       "      <td>NaN</td>\n",
       "      <td>move</td>\n",
       "      <td>sysop</td>\n",
       "      <td>infinity</td>\n",
       "      <td>NaN</td>\n",
       "    </tr>\n",
       "  </tbody>\n",
       "</table>\n",
       "<p>5 rows × 21 columns</p>\n",
       "</div>"
      ],
      "text/plain": [
       "       missing ns                           title contentmodel pagelanguage  \\\n",
       "pageid                                                                        \n",
       "620        NaN  0                     Animal Farm     wikitext           en   \n",
       "620        NaN  0                     Animal Farm     wikitext           en   \n",
       "2187       NaN  0  Antisemitism in the Arab world     wikitext           en   \n",
       "2187       NaN  0  Antisemitism in the Arab world     wikitext           en   \n",
       "2417       NaN  0                        Alicante     wikitext           en   \n",
       "\n",
       "       pagelanguagehtmlcode pagelanguagedir               touched  lastrevid  \\\n",
       "pageid                                                                         \n",
       "620                      en             ltr  2020-10-30T03:41:58Z  986084052   \n",
       "620                      en             ltr  2020-10-30T03:41:58Z  986084052   \n",
       "2187                     en             ltr  2020-10-29T19:53:46Z  984346437   \n",
       "2187                     en             ltr  2020-10-29T19:53:46Z  984346437   \n",
       "2417                     en             ltr  2020-10-30T16:53:25Z  979201708   \n",
       "\n",
       "       length  ... watchers visitingwatchers  talkid redirect subjectid  new  \\\n",
       "pageid         ...                                                             \n",
       "620     72645  ...      582               56  182359      NaN       NaN  NaN   \n",
       "620     72645  ...      582               56  182359      NaN       NaN  NaN   \n",
       "2187    55458  ...      177              NaN    3069      NaN       NaN  NaN   \n",
       "2187    55458  ...      177              NaN    3069      NaN       NaN  NaN   \n",
       "2417    45906  ...      102              NaN  851735      NaN       NaN  NaN   \n",
       "\n",
       "        type              level    expiry source  \n",
       "pageid                                            \n",
       "620     edit      autoconfirmed  infinity    NaN  \n",
       "620     move              sysop  infinity    NaN  \n",
       "2187    edit  extendedconfirmed  infinity    NaN  \n",
       "2187    move  extendedconfirmed  infinity    NaN  \n",
       "2417    move              sysop  infinity    NaN  \n",
       "\n",
       "[5 rows x 21 columns]"
      ]
     },
     "execution_count": 19,
     "metadata": {},
     "output_type": "execute_result"
    }
   ],
   "source": [
    "#Since the protection variable is seen to comprise of values in ditionaries \n",
    "#This is done to separate each of the properties into a DataFrame\n",
    "protect_data= protection_data.dropna(subset=['protection'])\n",
    "men= protect_data['protection']\n",
    "ind= protect_data['pageid']\n",
    "mass= [pd.DataFrame(x) for x in men]\n",
    "df= pd.concat(mass, keys= ind).reset_index(level= 1, drop= True)\n",
    "\n",
    "#Joining the newly acquired dataframe of the protection column to the aforementioned dataframe\n",
    "df = protection_data.set_index('pageid').join(df)\n",
    "#To drop the protection variable since t has been expanded\n",
    "df.drop(['protection'], axis= 1, inplace= True)\n",
    "df.head()\n"
   ]
  },
  {
   "cell_type": "code",
   "execution_count": 20,
   "metadata": {},
   "outputs": [],
   "source": [
    "#Note: 'df' is the dataframe containing all the expanded protection data"
   ]
  },
  {
   "cell_type": "code",
   "execution_count": 21,
   "metadata": {},
   "outputs": [
    {
     "data": {
      "text/plain": [
       "(999, 19)"
      ]
     },
     "execution_count": 21,
     "metadata": {},
     "output_type": "execute_result"
    }
   ],
   "source": [
    "protection_data.shape\n",
    "#Before exanding, there are 19 columns and 999 rows"
   ]
  },
  {
   "cell_type": "code",
   "execution_count": 22,
   "metadata": {},
   "outputs": [
    {
     "data": {
      "text/plain": [
       "(1916, 21)"
      ]
     },
     "execution_count": 22,
     "metadata": {},
     "output_type": "execute_result"
    }
   ],
   "source": [
    "df.shape\n",
    "# After expanding, there are now 21 columns 1916 rows"
   ]
  },
  {
   "cell_type": "code",
   "execution_count": 23,
   "metadata": {},
   "outputs": [
    {
     "data": {
      "text/plain": [
       "edit      951\n",
       "move      941\n",
       "upload      1\n",
       "Name: type, dtype: int64"
      ]
     },
     "execution_count": 23,
     "metadata": {},
     "output_type": "execute_result"
    }
   ],
   "source": [
    "df['type'].dropna()\n",
    "df.type.value_counts()\n",
    "#This is to drop all missing values in \"protection type\" varable since it is our target values"
   ]
  },
  {
   "cell_type": "code",
   "execution_count": 24,
   "metadata": {},
   "outputs": [
    {
     "data": {
      "text/plain": [
       "pageid                    0\n",
       "missing                 980\n",
       "ns                       19\n",
       "title                    19\n",
       "contentmodel             19\n",
       "pagelanguage             19\n",
       "pagelanguagehtmlcode     19\n",
       "pagelanguagedir          19\n",
       "touched                  19\n",
       "lastrevid                19\n",
       "length                   19\n",
       "protection               19\n",
       "restrictiontypes         19\n",
       "watchers                758\n",
       "visitingwatchers        902\n",
       "talkid                  389\n",
       "redirect                786\n",
       "subjectid               937\n",
       "new                     931\n",
       "dtype: int64"
      ]
     },
     "execution_count": 24,
     "metadata": {},
     "output_type": "execute_result"
    }
   ],
   "source": [
    "protection_data.isnull().sum()"
   ]
  },
  {
   "cell_type": "code",
   "execution_count": 25,
   "metadata": {},
   "outputs": [
    {
     "data": {
      "text/plain": [
       "missing                 1897\n",
       "ns                        19\n",
       "title                     19\n",
       "contentmodel              19\n",
       "pagelanguage              19\n",
       "pagelanguagehtmlcode      19\n",
       "pagelanguagedir           19\n",
       "touched                   19\n",
       "lastrevid                 19\n",
       "length                    19\n",
       "restrictiontypes          19\n",
       "watchers                1483\n",
       "visitingwatchers        1737\n",
       "talkid                   739\n",
       "redirect                1493\n",
       "subjectid               1803\n",
       "new                     1777\n",
       "type                      23\n",
       "level                     23\n",
       "expiry                    23\n",
       "source                  1908\n",
       "dtype: int64"
      ]
     },
     "execution_count": 25,
     "metadata": {},
     "output_type": "execute_result"
    }
   ],
   "source": [
    "df.isnull().sum()"
   ]
  },
  {
   "cell_type": "code",
   "execution_count": 26,
   "metadata": {},
   "outputs": [],
   "source": [
    "protection_data.fillna(0, inplace= True)\n"
   ]
  },
  {
   "cell_type": "code",
   "execution_count": 27,
   "metadata": {},
   "outputs": [
    {
     "data": {
      "text/plain": [
       "pageid                   int64\n",
       "missing                 object\n",
       "ns                       int64\n",
       "title                   object\n",
       "contentmodel            object\n",
       "pagelanguage            object\n",
       "pagelanguagehtmlcode    object\n",
       "pagelanguagedir         object\n",
       "touched                 object\n",
       "lastrevid                int64\n",
       "length                   int64\n",
       "protection              object\n",
       "restrictiontypes        object\n",
       "watchers                 int64\n",
       "visitingwatchers         int64\n",
       "talkid                   int64\n",
       "redirect                object\n",
       "subjectid                int64\n",
       "new                     object\n",
       "dtype: object"
      ]
     },
     "execution_count": 27,
     "metadata": {},
     "output_type": "execute_result"
    }
   ],
   "source": [
    "protection_data.dtypes\n",
    "#The data comprises of both object data types and integers"
   ]
  },
  {
   "cell_type": "code",
   "execution_count": 28,
   "metadata": {},
   "outputs": [
    {
     "data": {
      "text/plain": [
       "missing                 object\n",
       "ns                      object\n",
       "title                   object\n",
       "contentmodel            object\n",
       "pagelanguage            object\n",
       "pagelanguagehtmlcode    object\n",
       "pagelanguagedir         object\n",
       "touched                 object\n",
       "lastrevid               object\n",
       "length                  object\n",
       "restrictiontypes        object\n",
       "watchers                object\n",
       "visitingwatchers        object\n",
       "talkid                  object\n",
       "redirect                object\n",
       "subjectid               object\n",
       "new                     object\n",
       "type                    object\n",
       "level                   object\n",
       "expiry                  object\n",
       "source                  object\n",
       "dtype: object"
      ]
     },
     "execution_count": 28,
     "metadata": {},
     "output_type": "execute_result"
    }
   ],
   "source": [
    "df.dtypes"
   ]
  },
  {
   "cell_type": "code",
   "execution_count": 29,
   "metadata": {},
   "outputs": [
    {
     "data": {
      "text/html": [
       "<div>\n",
       "<style scoped>\n",
       "    .dataframe tbody tr th:only-of-type {\n",
       "        vertical-align: middle;\n",
       "    }\n",
       "\n",
       "    .dataframe tbody tr th {\n",
       "        vertical-align: top;\n",
       "    }\n",
       "\n",
       "    .dataframe thead th {\n",
       "        text-align: right;\n",
       "    }\n",
       "</style>\n",
       "<table border=\"1\" class=\"dataframe\">\n",
       "  <thead>\n",
       "    <tr style=\"text-align: right;\">\n",
       "      <th></th>\n",
       "      <th>pageid</th>\n",
       "      <th>ns</th>\n",
       "      <th>lastrevid</th>\n",
       "      <th>length</th>\n",
       "      <th>watchers</th>\n",
       "      <th>visitingwatchers</th>\n",
       "      <th>talkid</th>\n",
       "      <th>subjectid</th>\n",
       "    </tr>\n",
       "  </thead>\n",
       "  <tbody>\n",
       "    <tr>\n",
       "      <th>count</th>\n",
       "      <td>9.990000e+02</td>\n",
       "      <td>999.000000</td>\n",
       "      <td>9.990000e+02</td>\n",
       "      <td>999.000000</td>\n",
       "      <td>999.000000</td>\n",
       "      <td>999.000000</td>\n",
       "      <td>9.990000e+02</td>\n",
       "      <td>9.990000e+02</td>\n",
       "    </tr>\n",
       "    <tr>\n",
       "      <th>mean</th>\n",
       "      <td>2.388549e+07</td>\n",
       "      <td>25.564565</td>\n",
       "      <td>7.631248e+08</td>\n",
       "      <td>19129.963964</td>\n",
       "      <td>63.601602</td>\n",
       "      <td>7.431431</td>\n",
       "      <td>1.520574e+07</td>\n",
       "      <td>1.523178e+06</td>\n",
       "    </tr>\n",
       "    <tr>\n",
       "      <th>std</th>\n",
       "      <td>1.838382e+07</td>\n",
       "      <td>128.809500</td>\n",
       "      <td>2.634627e+08</td>\n",
       "      <td>48279.395244</td>\n",
       "      <td>214.070240</td>\n",
       "      <td>33.315866</td>\n",
       "      <td>1.921035e+07</td>\n",
       "      <td>7.407482e+06</td>\n",
       "    </tr>\n",
       "    <tr>\n",
       "      <th>min</th>\n",
       "      <td>6.200000e+02</td>\n",
       "      <td>0.000000</td>\n",
       "      <td>0.000000e+00</td>\n",
       "      <td>0.000000</td>\n",
       "      <td>0.000000</td>\n",
       "      <td>0.000000</td>\n",
       "      <td>0.000000e+00</td>\n",
       "      <td>0.000000e+00</td>\n",
       "    </tr>\n",
       "    <tr>\n",
       "      <th>25%</th>\n",
       "      <td>7.402048e+06</td>\n",
       "      <td>0.000000</td>\n",
       "      <td>6.631528e+08</td>\n",
       "      <td>85.000000</td>\n",
       "      <td>0.000000</td>\n",
       "      <td>0.000000</td>\n",
       "      <td>0.000000e+00</td>\n",
       "      <td>0.000000e+00</td>\n",
       "    </tr>\n",
       "    <tr>\n",
       "      <th>50%</th>\n",
       "      <td>2.165176e+07</td>\n",
       "      <td>3.000000</td>\n",
       "      <td>8.505089e+08</td>\n",
       "      <td>753.000000</td>\n",
       "      <td>0.000000</td>\n",
       "      <td>0.000000</td>\n",
       "      <td>4.277536e+06</td>\n",
       "      <td>0.000000e+00</td>\n",
       "    </tr>\n",
       "    <tr>\n",
       "      <th>75%</th>\n",
       "      <td>3.788918e+07</td>\n",
       "      <td>10.000000</td>\n",
       "      <td>9.683788e+08</td>\n",
       "      <td>10901.000000</td>\n",
       "      <td>0.000000</td>\n",
       "      <td>0.000000</td>\n",
       "      <td>2.794054e+07</td>\n",
       "      <td>0.000000e+00</td>\n",
       "    </tr>\n",
       "    <tr>\n",
       "      <th>max</th>\n",
       "      <td>6.559759e+07</td>\n",
       "      <td>829.000000</td>\n",
       "      <td>9.862455e+08</td>\n",
       "      <td>676131.000000</td>\n",
       "      <td>2407.000000</td>\n",
       "      <td>680.000000</td>\n",
       "      <td>6.557208e+07</td>\n",
       "      <td>5.882830e+07</td>\n",
       "    </tr>\n",
       "  </tbody>\n",
       "</table>\n",
       "</div>"
      ],
      "text/plain": [
       "             pageid          ns     lastrevid         length     watchers  \\\n",
       "count  9.990000e+02  999.000000  9.990000e+02     999.000000   999.000000   \n",
       "mean   2.388549e+07   25.564565  7.631248e+08   19129.963964    63.601602   \n",
       "std    1.838382e+07  128.809500  2.634627e+08   48279.395244   214.070240   \n",
       "min    6.200000e+02    0.000000  0.000000e+00       0.000000     0.000000   \n",
       "25%    7.402048e+06    0.000000  6.631528e+08      85.000000     0.000000   \n",
       "50%    2.165176e+07    3.000000  8.505089e+08     753.000000     0.000000   \n",
       "75%    3.788918e+07   10.000000  9.683788e+08   10901.000000     0.000000   \n",
       "max    6.559759e+07  829.000000  9.862455e+08  676131.000000  2407.000000   \n",
       "\n",
       "       visitingwatchers        talkid     subjectid  \n",
       "count        999.000000  9.990000e+02  9.990000e+02  \n",
       "mean           7.431431  1.520574e+07  1.523178e+06  \n",
       "std           33.315866  1.921035e+07  7.407482e+06  \n",
       "min            0.000000  0.000000e+00  0.000000e+00  \n",
       "25%            0.000000  0.000000e+00  0.000000e+00  \n",
       "50%            0.000000  4.277536e+06  0.000000e+00  \n",
       "75%            0.000000  2.794054e+07  0.000000e+00  \n",
       "max          680.000000  6.557208e+07  5.882830e+07  "
      ]
     },
     "execution_count": 29,
     "metadata": {},
     "output_type": "execute_result"
    }
   ],
   "source": [
    "protection_data.describe()"
   ]
  },
  {
   "cell_type": "markdown",
   "metadata": {},
   "source": [
    "* From the decription above:\n",
    "* There are 999 page ids in this data. \n",
    "* The maximum namespace i 829 meaning module talk from the namespace documentation\n",
    "* The max length an article, pertaining to this data, can have is 676131\n",
    "* The max number of watcher a page can have is 2407 watchers with 680 visiting watchers as the maximum as well\n",
    "\n",
    "#### Note: This is just a statistical description of the numerical variables"
   ]
  },
  {
   "cell_type": "markdown",
   "metadata": {},
   "source": [
    "*All minimum values are seen to be 0. \n",
    "*Meaning, 'no article', '0 watchers', '0 visiting watchers'"
   ]
  },
  {
   "cell_type": "code",
   "execution_count": 30,
   "metadata": {},
   "outputs": [
    {
     "data": {
      "text/html": [
       "<div>\n",
       "<style scoped>\n",
       "    .dataframe tbody tr th:only-of-type {\n",
       "        vertical-align: middle;\n",
       "    }\n",
       "\n",
       "    .dataframe tbody tr th {\n",
       "        vertical-align: top;\n",
       "    }\n",
       "\n",
       "    .dataframe thead th {\n",
       "        text-align: right;\n",
       "    }\n",
       "</style>\n",
       "<table border=\"1\" class=\"dataframe\">\n",
       "  <thead>\n",
       "    <tr style=\"text-align: right;\">\n",
       "      <th></th>\n",
       "      <th>pageid</th>\n",
       "      <th>ns</th>\n",
       "      <th>lastrevid</th>\n",
       "      <th>length</th>\n",
       "      <th>watchers</th>\n",
       "      <th>visitingwatchers</th>\n",
       "      <th>talkid</th>\n",
       "      <th>subjectid</th>\n",
       "    </tr>\n",
       "  </thead>\n",
       "  <tbody>\n",
       "    <tr>\n",
       "      <th>pageid</th>\n",
       "      <td>1.000000</td>\n",
       "      <td>0.172347</td>\n",
       "      <td>0.089390</td>\n",
       "      <td>-0.185977</td>\n",
       "      <td>-0.183935</td>\n",
       "      <td>-0.062536</td>\n",
       "      <td>0.383394</td>\n",
       "      <td>0.114842</td>\n",
       "    </tr>\n",
       "    <tr>\n",
       "      <th>ns</th>\n",
       "      <td>0.172347</td>\n",
       "      <td>1.000000</td>\n",
       "      <td>0.092501</td>\n",
       "      <td>-0.031093</td>\n",
       "      <td>-0.056889</td>\n",
       "      <td>-0.041520</td>\n",
       "      <td>0.092210</td>\n",
       "      <td>0.180596</td>\n",
       "    </tr>\n",
       "    <tr>\n",
       "      <th>lastrevid</th>\n",
       "      <td>0.089390</td>\n",
       "      <td>0.092501</td>\n",
       "      <td>1.000000</td>\n",
       "      <td>0.203992</td>\n",
       "      <td>0.208265</td>\n",
       "      <td>0.065860</td>\n",
       "      <td>0.216255</td>\n",
       "      <td>-0.051551</td>\n",
       "    </tr>\n",
       "    <tr>\n",
       "      <th>length</th>\n",
       "      <td>-0.185977</td>\n",
       "      <td>-0.031093</td>\n",
       "      <td>0.203992</td>\n",
       "      <td>1.000000</td>\n",
       "      <td>0.515699</td>\n",
       "      <td>0.305938</td>\n",
       "      <td>-0.114842</td>\n",
       "      <td>-0.008436</td>\n",
       "    </tr>\n",
       "    <tr>\n",
       "      <th>watchers</th>\n",
       "      <td>-0.183935</td>\n",
       "      <td>-0.056889</td>\n",
       "      <td>0.208265</td>\n",
       "      <td>0.515699</td>\n",
       "      <td>1.000000</td>\n",
       "      <td>0.618848</td>\n",
       "      <td>-0.083639</td>\n",
       "      <td>-0.046828</td>\n",
       "    </tr>\n",
       "    <tr>\n",
       "      <th>visitingwatchers</th>\n",
       "      <td>-0.062536</td>\n",
       "      <td>-0.041520</td>\n",
       "      <td>0.065860</td>\n",
       "      <td>0.305938</td>\n",
       "      <td>0.618848</td>\n",
       "      <td>1.000000</td>\n",
       "      <td>-0.068263</td>\n",
       "      <td>-0.020419</td>\n",
       "    </tr>\n",
       "    <tr>\n",
       "      <th>talkid</th>\n",
       "      <td>0.383394</td>\n",
       "      <td>0.092210</td>\n",
       "      <td>0.216255</td>\n",
       "      <td>-0.114842</td>\n",
       "      <td>-0.083639</td>\n",
       "      <td>-0.068263</td>\n",
       "      <td>1.000000</td>\n",
       "      <td>-0.162925</td>\n",
       "    </tr>\n",
       "    <tr>\n",
       "      <th>subjectid</th>\n",
       "      <td>0.114842</td>\n",
       "      <td>0.180596</td>\n",
       "      <td>-0.051551</td>\n",
       "      <td>-0.008436</td>\n",
       "      <td>-0.046828</td>\n",
       "      <td>-0.020419</td>\n",
       "      <td>-0.162925</td>\n",
       "      <td>1.000000</td>\n",
       "    </tr>\n",
       "  </tbody>\n",
       "</table>\n",
       "</div>"
      ],
      "text/plain": [
       "                    pageid        ns  lastrevid    length  watchers  \\\n",
       "pageid            1.000000  0.172347   0.089390 -0.185977 -0.183935   \n",
       "ns                0.172347  1.000000   0.092501 -0.031093 -0.056889   \n",
       "lastrevid         0.089390  0.092501   1.000000  0.203992  0.208265   \n",
       "length           -0.185977 -0.031093   0.203992  1.000000  0.515699   \n",
       "watchers         -0.183935 -0.056889   0.208265  0.515699  1.000000   \n",
       "visitingwatchers -0.062536 -0.041520   0.065860  0.305938  0.618848   \n",
       "talkid            0.383394  0.092210   0.216255 -0.114842 -0.083639   \n",
       "subjectid         0.114842  0.180596  -0.051551 -0.008436 -0.046828   \n",
       "\n",
       "                  visitingwatchers    talkid  subjectid  \n",
       "pageid                   -0.062536  0.383394   0.114842  \n",
       "ns                       -0.041520  0.092210   0.180596  \n",
       "lastrevid                 0.065860  0.216255  -0.051551  \n",
       "length                    0.305938 -0.114842  -0.008436  \n",
       "watchers                  0.618848 -0.083639  -0.046828  \n",
       "visitingwatchers          1.000000 -0.068263  -0.020419  \n",
       "talkid                   -0.068263  1.000000  -0.162925  \n",
       "subjectid                -0.020419 -0.162925   1.000000  "
      ]
     },
     "execution_count": 30,
     "metadata": {},
     "output_type": "execute_result"
    }
   ],
   "source": [
    "correlate= protection_data.corr()\n",
    "correlate"
   ]
  },
  {
   "cell_type": "markdown",
   "metadata": {},
   "source": [
    "* From the correlation of the  numerical variables, we can see that\n",
    "* There is a positive correlation between articles lengths and the number of watchers. Meaning, the longer the page is the higher the number of watchers\n",
    "* Positive correlation as well between watchers and the visiting watchers "
   ]
  },
  {
   "cell_type": "markdown",
   "metadata": {},
   "source": [
    "### Visualizing the length data"
   ]
  },
  {
   "cell_type": "code",
   "execution_count": 31,
   "metadata": {},
   "outputs": [
    {
     "data": {
      "text/plain": [
       "<AxesSubplot:>"
      ]
     },
     "execution_count": 31,
     "metadata": {},
     "output_type": "execute_result"
    },
    {
     "data": {
      "image/png": "[encoded data removed]",
      "text/plain": [
       "<Figure size 432x288 with 1 Axes>"
      ]
     },
     "metadata": {},
     "output_type": "display_data"
    }
   ],
   "source": [
    "protection_data['length'].hist(log= True, density= True) "
   ]
  },
  {
   "cell_type": "markdown",
   "metadata": {},
   "source": [
    "* The length is seen to be right skewed "
   ]
  },
  {
   "cell_type": "markdown",
   "metadata": {},
   "source": [
    "### Visualizing the Watcher Variable"
   ]
  },
  {
   "cell_type": "code",
   "execution_count": 32,
   "metadata": {},
   "outputs": [
    {
     "data": {
      "text/plain": [
       "<AxesSubplot:>"
      ]
     },
     "execution_count": 32,
     "metadata": {},
     "output_type": "execute_result"
    },
    {
     "data": {
      "image/png": "[encoded data removed]",
      "text/plain": [
       "<Figure size 432x288 with 1 Axes>"
      ]
     },
     "metadata": {},
     "output_type": "display_data"
    }
   ],
   "source": [
    "protection_data['watchers'].hist(log= True, density= True) "
   ]
  },
  {
   "cell_type": "markdown",
   "metadata": {},
   "source": [
    "* The watchers is seen to be right skewed too"
   ]
  },
  {
   "cell_type": "markdown",
   "metadata": {},
   "source": [
    "### Visualizing the Visiting Watcher Variable"
   ]
  },
  {
   "cell_type": "code",
   "execution_count": 33,
   "metadata": {},
   "outputs": [
    {
     "data": {
      "text/plain": [
       "<AxesSubplot:>"
      ]
     },
     "execution_count": 33,
     "metadata": {},
     "output_type": "execute_result"
    },
    {
     "data": {
      "image/png": "[encoded data removed]",
      "text/plain": [
       "<Figure size 432x288 with 1 Axes>"
      ]
     },
     "metadata": {},
     "output_type": "display_data"
    }
   ],
   "source": [
    "protection_data['visitingwatchers'].hist(log= True, density= True) "
   ]
  },
  {
   "cell_type": "markdown",
   "metadata": {},
   "source": [
    "##### Checking Correlation with Pearson"
   ]
  },
  {
   "cell_type": "code",
   "execution_count": null,
   "metadata": {},
   "outputs": [],
   "source": []
  },
  {
   "cell_type": "code",
   "execution_count": null,
   "metadata": {},
   "outputs": [],
   "source": []
  },
  {
   "cell_type": "markdown",
   "metadata": {},
   "source": [
    "* Right skewed too"
   ]
  },
  {
   "cell_type": "code",
   "execution_count": 34,
   "metadata": {},
   "outputs": [
    {
     "data": {
      "image/png": "[encoded data removed]",
      "text/plain": [
       "<Figure size 1080x720 with 2 Axes>"
      ]
     },
     "metadata": {},
     "output_type": "display_data"
    }
   ],
   "source": [
    "plt.figure(figsize=(15, 10))\n",
    "sns.heatmap(protection_data.corr(),annot=True,cmap= 'coolwarm') \n",
    "plt.show()\n"
   ]
  },
  {
   "cell_type": "markdown",
   "metadata": {},
   "source": [
    "* The correlation here have been explained above. This is to make more appealing to the eye "
   ]
  },
  {
   "cell_type": "markdown",
   "metadata": {},
   "source": [
    "### Content Model Visualzation"
   ]
  },
  {
   "cell_type": "code",
   "execution_count": 35,
   "metadata": {},
   "outputs": [
    {
     "data": {
      "text/plain": [
       "wikitext         960\n",
       "0                 19\n",
       "Scribunto         17\n",
       "sanitized-css      2\n",
       "javascript         1\n",
       "Name: contentmodel, dtype: int64"
      ]
     },
     "execution_count": 35,
     "metadata": {},
     "output_type": "execute_result"
    }
   ],
   "source": [
    "protection_data.contentmodel.value_counts()"
   ]
  },
  {
   "cell_type": "code",
   "execution_count": 36,
   "metadata": {},
   "outputs": [
    {
     "data": {
      "text/plain": [
       "<AxesSubplot:xlabel='contentmodel', ylabel='count'>"
      ]
     },
     "execution_count": 36,
     "metadata": {},
     "output_type": "execute_result"
    },
    {
     "data": {
      "image/png": "[encoded data removed]",
      "text/plain": [
       "<Figure size 432x288 with 1 Axes>"
      ]
     },
     "metadata": {},
     "output_type": "display_data"
    }
   ],
   "source": [
    "sns.countplot(x=  protection_data['contentmodel'])"
   ]
  },
  {
   "cell_type": "markdown",
   "metadata": {},
   "source": [
    "* In the cotentmodel variable, wikitext is the most seen among all "
   ]
  },
  {
   "cell_type": "markdown",
   "metadata": {},
   "source": [
    "### Protection  Level Visualization"
   ]
  },
  {
   "cell_type": "code",
   "execution_count": 37,
   "metadata": {},
   "outputs": [
    {
     "data": {
      "text/plain": [
       "autoconfirmed        910\n",
       "sysop                672\n",
       "templateeditor       252\n",
       "extendedconfirmed     59\n",
       "Name: level, dtype: int64"
      ]
     },
     "execution_count": 37,
     "metadata": {},
     "output_type": "execute_result"
    }
   ],
   "source": [
    "df['level'].value_counts()"
   ]
  },
  {
   "cell_type": "code",
   "execution_count": 38,
   "metadata": {},
   "outputs": [
    {
     "data": {
      "image/png": "[encoded data removed]",
      "text/plain": [
       "<Figure size 432x288 with 1 Axes>"
      ]
     },
     "metadata": {},
     "output_type": "display_data"
    }
   ],
   "source": [
    "sns.countplot(x= df['level'])\n",
    "plt.show()"
   ]
  },
  {
   "cell_type": "markdown",
   "metadata": {},
   "source": [
    "* Talking about the protection level, most of them are autoconfirmed, down to sysop...."
   ]
  },
  {
   "cell_type": "code",
   "execution_count": 39,
   "metadata": {},
   "outputs": [
    {
     "data": {
      "text/plain": [
       "<AxesSubplot:ylabel='level'>"
      ]
     },
     "execution_count": 39,
     "metadata": {},
     "output_type": "execute_result"
    },
    {
     "data": {
      "image/png": "[encoded data removed]",
      "text/plain": [
       "<Figure size 432x288 with 1 Axes>"
      ]
     },
     "metadata": {},
     "output_type": "display_data"
    }
   ],
   "source": [
    "df['level'].value_counts().plot.pie(autopct='%1.1f%%')"
   ]
  },
  {
   "cell_type": "markdown",
   "metadata": {},
   "source": [
    "* With pie chart, we can see that 48.1% of the levels are autoconfirmed, 35.5% are sysop "
   ]
  },
  {
   "cell_type": "markdown",
   "metadata": {},
   "source": [
    "###  Protection Type Visualization"
   ]
  },
  {
   "cell_type": "code",
   "execution_count": 40,
   "metadata": {},
   "outputs": [
    {
     "data": {
      "text/plain": [
       "edit      951\n",
       "move      941\n",
       "upload      1\n",
       "Name: type, dtype: int64"
      ]
     },
     "execution_count": 40,
     "metadata": {},
     "output_type": "execute_result"
    }
   ],
   "source": [
    "df['type'].value_counts()"
   ]
  },
  {
   "cell_type": "code",
   "execution_count": 41,
   "metadata": {},
   "outputs": [
    {
     "data": {
      "image/png": "[encoded data removed]",
      "text/plain": [
       "<Figure size 432x288 with 1 Axes>"
      ]
     },
     "metadata": {},
     "output_type": "display_data"
    }
   ],
   "source": [
    "sns.countplot(x= df['type'])\n",
    "plt.show()"
   ]
  },
  {
   "cell_type": "code",
   "execution_count": 42,
   "metadata": {},
   "outputs": [
    {
     "data": {
      "text/plain": [
       "<AxesSubplot:ylabel='type'>"
      ]
     },
     "execution_count": 42,
     "metadata": {},
     "output_type": "execute_result"
    },
    {
     "data": {
      "image/png": "[encoded data removed]",
      "text/plain": [
       "<Figure size 432x288 with 1 Axes>"
      ]
     },
     "metadata": {},
     "output_type": "display_data"
    }
   ],
   "source": [
    "df['type'].value_counts().plot.pie(autopct='%1.1f%%')"
   ]
  },
  {
   "cell_type": "markdown",
   "metadata": {},
   "source": [
    "* From the Protection type visuals, 50.2% of the pages exhibit the edit protection type while 49.7% exhibit the move type, 0.1 are upload type"
   ]
  },
  {
   "cell_type": "code",
   "execution_count": 43,
   "metadata": {},
   "outputs": [
    {
     "data": {
      "image/png": "[encoded data removed]",
      "text/plain": [
       "<Figure size 432x288 with 1 Axes>"
      ]
     },
     "metadata": {},
     "output_type": "display_data"
    }
   ],
   "source": [
    "sns.set(style= 'darkgrid')\n",
    "sns.countplot(y= 'level', hue= 'type', data= df)\n",
    "plt.show()"
   ]
  },
  {
   "cell_type": "markdown",
   "metadata": {},
   "source": [
    "#Most sysop level exhibit the move protection type, likewise the rest of the levels"
   ]
  },
  {
   "cell_type": "code",
   "execution_count": 44,
   "metadata": {},
   "outputs": [
    {
     "data": {
      "text/plain": [
       "infinity                1825\n",
       "2022-06-03T03:07:56Z       2\n",
       "2021-01-19T22:52:31Z       2\n",
       "2024-03-30T19:08:36Z       2\n",
       "2021-03-14T19:48:38Z       2\n",
       "2021-08-10T02:48:14Z       2\n",
       "2021-02-25T17:09:47Z       2\n",
       "2020-11-13T19:36:48Z       2\n",
       "2021-07-03T14:50:22Z       2\n",
       "2021-06-25T00:53:53Z       2\n",
       "2022-05-02T07:27:48Z       2\n",
       "2021-02-02T11:56:35Z       2\n",
       "2021-04-23T21:01:22Z       2\n",
       "2020-11-02T06:31:17Z       2\n",
       "2022-08-14T20:07:09Z       2\n",
       "2022-04-20T16:58:13Z       2\n",
       "2021-01-21T03:40:01Z       2\n",
       "2025-08-25T11:21:05Z       2\n",
       "2020-12-21T15:51:26Z       2\n",
       "2021-01-18T12:29:36Z       2\n",
       "2021-03-25T19:14:07Z       2\n",
       "2020-11-07T02:36:22Z       2\n",
       "2021-03-13T23:38:51Z       2\n",
       "2023-01-28T18:50:05Z       2\n",
       "2020-12-15T15:45:25Z       2\n",
       "2022-04-19T06:16:03Z       2\n",
       "2021-08-25T08:11:47Z       2\n",
       "2021-02-10T17:41:35Z       2\n",
       "2021-03-12T01:47:50Z       2\n",
       "2021-06-02T20:35:25Z       2\n",
       "2020-11-23T17:20:45Z       1\n",
       "2022-05-09T05:41:42Z       1\n",
       "2021-01-25T02:37:23Z       1\n",
       "2022-12-28T05:16:47Z       1\n",
       "2020-12-12T22:57:45Z       1\n",
       "2021-02-20T07:18:39Z       1\n",
       "2021-05-21T08:53:00Z       1\n",
       "2020-11-08T09:08:54Z       1\n",
       "2022-04-29T11:34:11Z       1\n",
       "2020-11-15T23:23:46Z       1\n",
       "Name: expiry, dtype: int64"
      ]
     },
     "execution_count": 44,
     "metadata": {},
     "output_type": "execute_result"
    }
   ],
   "source": [
    "df['expiry'].value_counts()"
   ]
  },
  {
   "cell_type": "markdown",
   "metadata": {},
   "source": [
    "* Mostly, the pages have infinity protection expiry  "
   ]
  },
  {
   "cell_type": "markdown",
   "metadata": {},
   "source": [
    "### The Namespace Analysis"
   ]
  },
  {
   "cell_type": "code",
   "execution_count": 45,
   "metadata": {},
   "outputs": [
    {
     "data": {
      "text/plain": [
       "10     358\n",
       "0      271\n",
       "2      143\n",
       "3       93\n",
       "4       80\n",
       "828     20\n",
       "5       11\n",
       "1        8\n",
       "829      5\n",
       "12       3\n",
       "11       2\n",
       "118      1\n",
       "100      1\n",
       "15       1\n",
       "9        1\n",
       "6        1\n",
       "Name: ns, dtype: int64"
      ]
     },
     "execution_count": 45,
     "metadata": {},
     "output_type": "execute_result"
    }
   ],
   "source": [
    "protection_data.ns.value_counts()"
   ]
  },
  {
   "cell_type": "markdown",
   "metadata": {},
   "source": [
    "* Here, we can see that, most of the pages are of namespace id 10,with the name 'Template', the next is id 0, which is known as 'Main', with the rest thereafter \n",
    "* The id to namespace name mapping will bw shown below"
   ]
  },
  {
   "cell_type": "code",
   "execution_count": 46,
   "metadata": {},
   "outputs": [],
   "source": [
    "PV= protection_data.groupby('ns').sum().reset_index()"
   ]
  },
  {
   "cell_type": "code",
   "execution_count": 47,
   "metadata": {},
   "outputs": [
    {
     "data": {
      "text/html": [
       "<div>\n",
       "<style scoped>\n",
       "    .dataframe tbody tr th:only-of-type {\n",
       "        vertical-align: middle;\n",
       "    }\n",
       "\n",
       "    .dataframe tbody tr th {\n",
       "        vertical-align: top;\n",
       "    }\n",
       "\n",
       "    .dataframe thead th {\n",
       "        text-align: right;\n",
       "    }\n",
       "</style>\n",
       "<table border=\"1\" class=\"dataframe\">\n",
       "  <thead>\n",
       "    <tr style=\"text-align: right;\">\n",
       "      <th></th>\n",
       "      <th>ns</th>\n",
       "      <th>pageid</th>\n",
       "      <th>lastrevid</th>\n",
       "      <th>length</th>\n",
       "      <th>watchers</th>\n",
       "      <th>visitingwatchers</th>\n",
       "      <th>talkid</th>\n",
       "      <th>subjectid</th>\n",
       "    </tr>\n",
       "  </thead>\n",
       "  <tbody>\n",
       "    <tr>\n",
       "      <th>0</th>\n",
       "      <td>0</td>\n",
       "      <td>5415149041</td>\n",
       "      <td>229545782096</td>\n",
       "      <td>11337973</td>\n",
       "      <td>49065</td>\n",
       "      <td>4173</td>\n",
       "      <td>4965276410</td>\n",
       "      <td>0</td>\n",
       "    </tr>\n",
       "    <tr>\n",
       "      <th>1</th>\n",
       "      <td>1</td>\n",
       "      <td>99429796</td>\n",
       "      <td>7385693424</td>\n",
       "      <td>174000</td>\n",
       "      <td>2399</td>\n",
       "      <td>253</td>\n",
       "      <td>0</td>\n",
       "      <td>61848760</td>\n",
       "    </tr>\n",
       "    <tr>\n",
       "      <th>2</th>\n",
       "      <td>2</td>\n",
       "      <td>4009843109</td>\n",
       "      <td>91936900260</td>\n",
       "      <td>847153</td>\n",
       "      <td>2359</td>\n",
       "      <td>368</td>\n",
       "      <td>1713443981</td>\n",
       "      <td>0</td>\n",
       "    </tr>\n",
       "    <tr>\n",
       "      <th>3</th>\n",
       "      <td>3</td>\n",
       "      <td>2556974085</td>\n",
       "      <td>57733254426</td>\n",
       "      <td>4260927</td>\n",
       "      <td>5731</td>\n",
       "      <td>1866</td>\n",
       "      <td>0</td>\n",
       "      <td>863379049</td>\n",
       "    </tr>\n",
       "    <tr>\n",
       "      <th>4</th>\n",
       "      <td>4</td>\n",
       "      <td>1684000756</td>\n",
       "      <td>45644333298</td>\n",
       "      <td>1376553</td>\n",
       "      <td>2192</td>\n",
       "      <td>345</td>\n",
       "      <td>744372077</td>\n",
       "      <td>0</td>\n",
       "    </tr>\n",
       "    <tr>\n",
       "      <th>5</th>\n",
       "      <td>5</td>\n",
       "      <td>385884378</td>\n",
       "      <td>7550667885</td>\n",
       "      <td>109229</td>\n",
       "      <td>136</td>\n",
       "      <td>136</td>\n",
       "      <td>0</td>\n",
       "      <td>258157134</td>\n",
       "    </tr>\n",
       "    <tr>\n",
       "      <th>6</th>\n",
       "      <td>6</td>\n",
       "      <td>8778001</td>\n",
       "      <td>771279707</td>\n",
       "      <td>157</td>\n",
       "      <td>0</td>\n",
       "      <td>0</td>\n",
       "      <td>0</td>\n",
       "      <td>0</td>\n",
       "    </tr>\n",
       "    <tr>\n",
       "      <th>7</th>\n",
       "      <td>9</td>\n",
       "      <td>35808529</td>\n",
       "      <td>854208694</td>\n",
       "      <td>23284</td>\n",
       "      <td>0</td>\n",
       "      <td>0</td>\n",
       "      <td>0</td>\n",
       "      <td>0</td>\n",
       "    </tr>\n",
       "    <tr>\n",
       "      <th>8</th>\n",
       "      <td>10</td>\n",
       "      <td>8317101858</td>\n",
       "      <td>290793815125</td>\n",
       "      <td>617684</td>\n",
       "      <td>980</td>\n",
       "      <td>152</td>\n",
       "      <td>6963832727</td>\n",
       "      <td>0</td>\n",
       "    </tr>\n",
       "    <tr>\n",
       "      <th>9</th>\n",
       "      <td>11</td>\n",
       "      <td>64599331</td>\n",
       "      <td>1699067098</td>\n",
       "      <td>16644</td>\n",
       "      <td>70</td>\n",
       "      <td>0</td>\n",
       "      <td>0</td>\n",
       "      <td>62851402</td>\n",
       "    </tr>\n",
       "    <tr>\n",
       "      <th>10</th>\n",
       "      <td>12</td>\n",
       "      <td>99345610</td>\n",
       "      <td>2903068911</td>\n",
       "      <td>17810</td>\n",
       "      <td>276</td>\n",
       "      <td>55</td>\n",
       "      <td>100042395</td>\n",
       "      <td>0</td>\n",
       "    </tr>\n",
       "    <tr>\n",
       "      <th>11</th>\n",
       "      <td>15</td>\n",
       "      <td>36897585</td>\n",
       "      <td>945377119</td>\n",
       "      <td>3635</td>\n",
       "      <td>257</td>\n",
       "      <td>76</td>\n",
       "      <td>0</td>\n",
       "      <td>27130875</td>\n",
       "    </tr>\n",
       "    <tr>\n",
       "      <th>12</th>\n",
       "      <td>100</td>\n",
       "      <td>3271272</td>\n",
       "      <td>981251057</td>\n",
       "      <td>2292</td>\n",
       "      <td>73</td>\n",
       "      <td>0</td>\n",
       "      <td>3274064</td>\n",
       "      <td>0</td>\n",
       "    </tr>\n",
       "    <tr>\n",
       "      <th>13</th>\n",
       "      <td>118</td>\n",
       "      <td>58077358</td>\n",
       "      <td>856468298</td>\n",
       "      <td>58</td>\n",
       "      <td>0</td>\n",
       "      <td>0</td>\n",
       "      <td>58254889</td>\n",
       "      <td>0</td>\n",
       "    </tr>\n",
       "    <tr>\n",
       "      <th>14</th>\n",
       "      <td>828</td>\n",
       "      <td>987455504</td>\n",
       "      <td>18054079012</td>\n",
       "      <td>323105</td>\n",
       "      <td>0</td>\n",
       "      <td>0</td>\n",
       "      <td>642042052</td>\n",
       "      <td>0</td>\n",
       "    </tr>\n",
       "    <tr>\n",
       "      <th>15</th>\n",
       "      <td>829</td>\n",
       "      <td>98990262</td>\n",
       "      <td>4706398666</td>\n",
       "      <td>330</td>\n",
       "      <td>0</td>\n",
       "      <td>0</td>\n",
       "      <td>0</td>\n",
       "      <td>248288068</td>\n",
       "    </tr>\n",
       "  </tbody>\n",
       "</table>\n",
       "</div>"
      ],
      "text/plain": [
       "     ns      pageid     lastrevid    length  watchers  visitingwatchers  \\\n",
       "0     0  5415149041  229545782096  11337973     49065              4173   \n",
       "1     1    99429796    7385693424    174000      2399               253   \n",
       "2     2  4009843109   91936900260    847153      2359               368   \n",
       "3     3  2556974085   57733254426   4260927      5731              1866   \n",
       "4     4  1684000756   45644333298   1376553      2192               345   \n",
       "5     5   385884378    7550667885    109229       136               136   \n",
       "6     6     8778001     771279707       157         0                 0   \n",
       "7     9    35808529     854208694     23284         0                 0   \n",
       "8    10  8317101858  290793815125    617684       980               152   \n",
       "9    11    64599331    1699067098     16644        70                 0   \n",
       "10   12    99345610    2903068911     17810       276                55   \n",
       "11   15    36897585     945377119      3635       257                76   \n",
       "12  100     3271272     981251057      2292        73                 0   \n",
       "13  118    58077358     856468298        58         0                 0   \n",
       "14  828   987455504   18054079012    323105         0                 0   \n",
       "15  829    98990262    4706398666       330         0                 0   \n",
       "\n",
       "        talkid  subjectid  \n",
       "0   4965276410          0  \n",
       "1            0   61848760  \n",
       "2   1713443981          0  \n",
       "3            0  863379049  \n",
       "4    744372077          0  \n",
       "5            0  258157134  \n",
       "6            0          0  \n",
       "7            0          0  \n",
       "8   6963832727          0  \n",
       "9            0   62851402  \n",
       "10   100042395          0  \n",
       "11           0   27130875  \n",
       "12     3274064          0  \n",
       "13    58254889          0  \n",
       "14   642042052          0  \n",
       "15           0  248288068  "
      ]
     },
     "execution_count": 47,
     "metadata": {},
     "output_type": "execute_result"
    }
   ],
   "source": [
    "PV"
   ]
  },
  {
   "cell_type": "code",
   "execution_count": 48,
   "metadata": {},
   "outputs": [
    {
     "data": {
      "text/plain": [
       "<AxesSubplot:ylabel='ns'>"
      ]
     },
     "execution_count": 48,
     "metadata": {},
     "output_type": "execute_result"
    },
    {
     "data": {
      "image/png": "[encoded data removed]",
      "text/plain": [
       "<Figure size 432x288 with 1 Axes>"
      ]
     },
     "metadata": {},
     "output_type": "display_data"
    }
   ],
   "source": [
    "df.ns.value_counts().plot.pie(autopct='%1.1f%%')"
   ]
  },
  {
   "cell_type": "markdown",
   "metadata": {},
   "source": [
    "* A pie plot necessary for proper visuals, follows the explaination above "
   ]
  },
  {
   "cell_type": "code",
   "execution_count": 49,
   "metadata": {},
   "outputs": [],
   "source": [
    "ns_dict= {0:\"Main\", 1: \"Talk\", 2:\"User\", 3:\"User Talk\", 4: \"Project\", 5:\"Project Talk\", 6: \"File\",9: \"Mediawiki-Talk\", 10: \"Template\", 11: \"Template Talk\", 12: \"Help\", 15: \"Category_Talk\",\n",
    "             100: \"Relation\", 118: \"draft\", 828: \"Module\", 829: \"Module Talk\"}"
   ]
  },
  {
   "cell_type": "code",
   "execution_count": 50,
   "metadata": {},
   "outputs": [
    {
     "data": {
      "image/png": "[encoded data removed]",
      "text/plain": [
       "<Figure size 1440x1080 with 15 Axes>"
      ]
     },
     "metadata": {},
     "output_type": "display_data"
    }
   ],
   "source": [
    "fig, axes = plt.subplots(5,3, figsize=(20,15))\n",
    "\n",
    "unique= np.unique(protection_data.ns)\n",
    "\n",
    "for i, ax in enumerate(axes.flatten()[1:]):\n",
    "    values = df[df['ns']==unique[i]]['level'].value_counts()\n",
    "    values.plot.bar(ax=ax)\n",
    "    ax.set_title(ns_dict[int(unique[i])])\n",
    "    ax.set_ylabel('')\n",
    "\n",
    "plt.show()\n",
    "\n"
   ]
  },
  {
   "cell_type": "markdown",
   "metadata": {},
   "source": [
    "#### From the visualization of the namespace variable and the protection level data, we realized that:\n",
    "* The most seen levels are 'autoconfirmed' and 'sysop' since they appear most in all protection levels data\n",
    "* The 'Main', 'User', 'Project', have three differnt levels with 'Temlate' having all the Four levels \n",
    "* The 'File', 'MediaWikiTalk', 'TemplateTalk', 'CAtegoryTalk', 'Relation', 'Draft' namespaces have one level each which is either 'autoconfirmed' or 'sysop'"
   ]
  },
  {
   "cell_type": "code",
   "execution_count": 51,
   "metadata": {},
   "outputs": [
    {
     "data": {
      "image/png": "[encoded data removed]",
      "text/plain": [
       "<Figure size 1440x1080 with 15 Axes>"
      ]
     },
     "metadata": {},
     "output_type": "display_data"
    }
   ],
   "source": [
    "fig, axes = plt.subplots(5,3, figsize=(20,15))\n",
    "\n",
    "unique= np.unique(protection_data.ns)\n",
    "\n",
    "for i, ax in enumerate(axes.flatten()[1:]):\n",
    "    value= df[df['ns']==unique[i]]['type'].value_counts()\n",
    "    value.plot.bar(ax=ax)\n",
    "    ax.set_title(ns_dict[int(unique[i])])\n",
    "    ax.set_ylabel('')\n",
    "\n",
    "plt.show()\n"
   ]
  },
  {
   "cell_type": "markdown",
   "metadata": {},
   "source": [
    "#### Now About The Protection types to namesspaces:\n",
    "* The 'file' namespaces is seen to be having all the protection types. 'Category', 'Relation' are having 'edit' and 'move' respectively. While the rest are having both the 'edit' and 'move' all together"
   ]
  },
  {
   "cell_type": "code",
   "execution_count": 52,
   "metadata": {},
   "outputs": [],
   "source": [
    "df.fillna(0, inplace= True)\n",
    "# This is to fill all the missing values with zero for proper modelling"
   ]
  },
  {
   "cell_type": "code",
   "execution_count": 53,
   "metadata": {},
   "outputs": [],
   "source": [
    "columns= ['missing', 'title', 'contentmodel', 'pagelanguage', 'pagelanguagehtmlcode', 'pagelanguagedir', 'touched', 'restrictiontypes', 'redirect', 'new', 'type', 'level', 'expiry', 'source' ]\n",
    "\n",
    "for col in columns:\n",
    "    le= LabelEncoder()\n",
    "    df[col]= le.fit_transform(df[col].astype(str))\n",
    "    \n",
    "# Label encoder is for  transforming categorical data to numerical data. It is then changed to string because Label Encoder does not accept a mix of int and str     "
   ]
  },
  {
   "cell_type": "code",
   "execution_count": 54,
   "metadata": {},
   "outputs": [
    {
     "data": {
      "text/plain": [
       "(1916, 21)"
      ]
     },
     "execution_count": 54,
     "metadata": {},
     "output_type": "execute_result"
    }
   ],
   "source": [
    "df.shape"
   ]
  },
  {
   "cell_type": "markdown",
   "metadata": {},
   "source": [
    "### Predictive Model\n",
    "TODO: Train and evaluate a predictive model on the data you gathered for the above descriptive statistics. Describe what you learned from the model or how it would be useful."
   ]
  },
  {
   "cell_type": "code",
   "execution_count": 55,
   "metadata": {},
   "outputs": [],
   "source": [
    "# imports\n",
    "from sklearn.preprocessing import MinMaxScaler #for data scaling in order to normalize them\n",
    "from sklearn.model_selection import train_test_split #for spliting data into training and testing data\n",
    "from sklearn.metrics import accuracy_score , roc_auc_score, classification_report   #for checking accuracy\n",
    "from sklearn.linear_model import LogisticRegression #A classification and regression algorithm\n",
    "from sklearn.neighbors import KNeighborsClassifier\n",
    "from sklearn.svm import SVC\n",
    "from sklearn.ensemble import VotingClassifier\n"
   ]
  },
  {
   "cell_type": "code",
   "execution_count": 56,
   "metadata": {},
   "outputs": [],
   "source": [
    "X= df.drop(['type', 'new', 'source'], axis= 1) #The predicting variables\n",
    "y= df['type'] #The target variabl "
   ]
  },
  {
   "cell_type": "code",
   "execution_count": 57,
   "metadata": {},
   "outputs": [],
   "source": [
    "# TODO: preprocess data\n",
    "scaler= MinMaxScaler() #for normalizing data\n",
    "X= scaler.fit_transform(X) #fitting the scaler"
   ]
  },
  {
   "cell_type": "code",
   "execution_count": 58,
   "metadata": {},
   "outputs": [],
   "source": [
    "train_x, val_x, train_y, val_y= train_test_split(X, y, test_size= 0.2, random_state= 0)\n",
    "#splitting into train data and test data"
   ]
  },
  {
   "cell_type": "markdown",
   "metadata": {},
   "source": [
    "### Logistic Regression Algorithm"
   ]
  },
  {
   "cell_type": "code",
   "execution_count": 59,
   "metadata": {},
   "outputs": [
    {
     "name": "stdout",
     "output_type": "stream",
     "text": [
      "LE ACC SCORE: 0.6015625\n",
      "LE Class Report:               precision    recall  f1-score   support\n",
      "\n",
      "           0       1.00      1.00      1.00         3\n",
      "           1       0.61      0.61      0.61       198\n",
      "           2       0.58      0.58      0.58       183\n",
      "\n",
      "    accuracy                           0.60       384\n",
      "   macro avg       0.73      0.73      0.73       384\n",
      "weighted avg       0.60      0.60      0.60       384\n",
      "\n"
     ]
    },
    {
     "name": "stderr",
     "output_type": "stream",
     "text": [
      "/srv/paws/lib/python3.6/site-packages/sklearn/linear_model/_logistic.py:764: ConvergenceWarning: lbfgs failed to converge (status=1):\n",
      "STOP: TOTAL NO. of ITERATIONS REACHED LIMIT.\n",
      "\n",
      "Increase the number of iterations (max_iter) or scale the data as shown in:\n",
      "    https://scikit-learn.org/stable/modules/preprocessing.html\n",
      "Please also refer to the documentation for alternative solver options:\n",
      "    https://scikit-learn.org/stable/modules/linear_model.html#logistic-regression\n",
      "  extra_warning_msg=_LOGISTIC_SOLVER_CONVERGENCE_MSG)\n"
     ]
    }
   ],
   "source": [
    "# TODO: train model\n",
    "lr= LogisticRegression()\n",
    "lr.fit(train_x, train_y)\n",
    "pred= lr.predict(val_x) #making predictions using the validaton data\n",
    "print('LE ACC SCORE:', accuracy_score(pred, val_y)) #calculating model accuracy\n",
    "print('LE Class Report:', classification_report(pred, val_y)) #Checking report of the model performance"
   ]
  },
  {
   "cell_type": "markdown",
   "metadata": {},
   "source": [
    "### Support Vector Machine Algorithm"
   ]
  },
  {
   "cell_type": "code",
   "execution_count": 60,
   "metadata": {},
   "outputs": [
    {
     "name": "stdout",
     "output_type": "stream",
     "text": [
      "SVM ACC SCORE: 0.6145833333333334\n",
      "SVM Class Report:               precision    recall  f1-score   support\n",
      "\n",
      "           0       1.00      1.00      1.00         3\n",
      "           1       0.63      0.62      0.63       201\n",
      "           2       0.59      0.60      0.59       180\n",
      "\n",
      "    accuracy                           0.61       384\n",
      "   macro avg       0.74      0.74      0.74       384\n",
      "weighted avg       0.62      0.61      0.61       384\n",
      "\n"
     ]
    }
   ],
   "source": [
    "svm= SVC( probability= True)\n",
    "svm.fit(train_x, train_y)\n",
    "preds= svm.predict(val_x)\n",
    "print('SVM ACC SCORE:', accuracy_score(preds, val_y)) #calculating model accuracy\n",
    "print('SVM Class Report:', classification_report(preds, val_y)) #Checking report of the model performance"
   ]
  },
  {
   "cell_type": "markdown",
   "metadata": {},
   "source": [
    "### Voting Classifier Algorithm"
   ]
  },
  {
   "cell_type": "code",
   "execution_count": 61,
   "metadata": {},
   "outputs": [],
   "source": [
    "voting= VotingClassifier(estimators= [('lr', lr), ('svm', svm)], weights=[1,3], voting= 'hard')"
   ]
  },
  {
   "cell_type": "code",
   "execution_count": 62,
   "metadata": {},
   "outputs": [
    {
     "name": "stderr",
     "output_type": "stream",
     "text": [
      "/srv/paws/lib/python3.6/site-packages/sklearn/linear_model/_logistic.py:764: ConvergenceWarning: lbfgs failed to converge (status=1):\n",
      "STOP: TOTAL NO. of ITERATIONS REACHED LIMIT.\n",
      "\n",
      "Increase the number of iterations (max_iter) or scale the data as shown in:\n",
      "    https://scikit-learn.org/stable/modules/preprocessing.html\n",
      "Please also refer to the documentation for alternative solver options:\n",
      "    https://scikit-learn.org/stable/modules/linear_model.html#logistic-regression\n",
      "  extra_warning_msg=_LOGISTIC_SOLVER_CONVERGENCE_MSG)\n"
     ]
    },
    {
     "name": "stdout",
     "output_type": "stream",
     "text": [
      "VOTING ACC SCORE: 0.6145833333333334\n",
      "Voting Class Report:               precision    recall  f1-score   support\n",
      "\n",
      "           0       1.00      1.00      1.00         3\n",
      "           1       0.63      0.62      0.63       201\n",
      "           2       0.59      0.60      0.59       180\n",
      "\n",
      "    accuracy                           0.61       384\n",
      "   macro avg       0.74      0.74      0.74       384\n",
      "weighted avg       0.62      0.61      0.61       384\n",
      "\n"
     ]
    }
   ],
   "source": [
    "voting.fit(train_x, train_y)\n",
    "predi= voting.predict(val_x)\n",
    "print('VOTING ACC SCORE:', accuracy_score(val_y, predi)) #calculating model accuracy\n",
    "print('Voting Class Report:', classification_report(predi, val_y))  #Checking report of the model performance"
   ]
  },
  {
   "cell_type": "code",
   "execution_count": 63,
   "metadata": {},
   "outputs": [],
   "source": [
    "from sklearn.feature_selection import RFE\n",
    "# imported for selecting best features"
   ]
  },
  {
   "cell_type": "code",
   "execution_count": 64,
   "metadata": {},
   "outputs": [
    {
     "name": "stderr",
     "output_type": "stream",
     "text": [
      "/srv/paws/lib/python3.6/site-packages/sklearn/linear_model/_logistic.py:764: ConvergenceWarning: lbfgs failed to converge (status=1):\n",
      "STOP: TOTAL NO. of ITERATIONS REACHED LIMIT.\n",
      "\n",
      "Increase the number of iterations (max_iter) or scale the data as shown in:\n",
      "    https://scikit-learn.org/stable/modules/preprocessing.html\n",
      "Please also refer to the documentation for alternative solver options:\n",
      "    https://scikit-learn.org/stable/modules/linear_model.html#logistic-regression\n",
      "  extra_warning_msg=_LOGISTIC_SOLVER_CONVERGENCE_MSG)\n",
      "/srv/paws/lib/python3.6/site-packages/sklearn/linear_model/_logistic.py:764: ConvergenceWarning: lbfgs failed to converge (status=1):\n",
      "STOP: TOTAL NO. of ITERATIONS REACHED LIMIT.\n",
      "\n",
      "Increase the number of iterations (max_iter) or scale the data as shown in:\n",
      "    https://scikit-learn.org/stable/modules/preprocessing.html\n",
      "Please also refer to the documentation for alternative solver options:\n",
      "    https://scikit-learn.org/stable/modules/linear_model.html#logistic-regression\n",
      "  extra_warning_msg=_LOGISTIC_SOLVER_CONVERGENCE_MSG)\n",
      "/srv/paws/lib/python3.6/site-packages/sklearn/linear_model/_logistic.py:764: ConvergenceWarning: lbfgs failed to converge (status=1):\n",
      "STOP: TOTAL NO. of ITERATIONS REACHED LIMIT.\n",
      "\n",
      "Increase the number of iterations (max_iter) or scale the data as shown in:\n",
      "    https://scikit-learn.org/stable/modules/preprocessing.html\n",
      "Please also refer to the documentation for alternative solver options:\n",
      "    https://scikit-learn.org/stable/modules/linear_model.html#logistic-regression\n",
      "  extra_warning_msg=_LOGISTIC_SOLVER_CONVERGENCE_MSG)\n",
      "/srv/paws/lib/python3.6/site-packages/sklearn/linear_model/_logistic.py:764: ConvergenceWarning: lbfgs failed to converge (status=1):\n",
      "STOP: TOTAL NO. of ITERATIONS REACHED LIMIT.\n",
      "\n",
      "Increase the number of iterations (max_iter) or scale the data as shown in:\n",
      "    https://scikit-learn.org/stable/modules/preprocessing.html\n",
      "Please also refer to the documentation for alternative solver options:\n",
      "    https://scikit-learn.org/stable/modules/linear_model.html#logistic-regression\n",
      "  extra_warning_msg=_LOGISTIC_SOLVER_CONVERGENCE_MSG)\n",
      "/srv/paws/lib/python3.6/site-packages/sklearn/linear_model/_logistic.py:764: ConvergenceWarning: lbfgs failed to converge (status=1):\n",
      "STOP: TOTAL NO. of ITERATIONS REACHED LIMIT.\n",
      "\n",
      "Increase the number of iterations (max_iter) or scale the data as shown in:\n",
      "    https://scikit-learn.org/stable/modules/preprocessing.html\n",
      "Please also refer to the documentation for alternative solver options:\n",
      "    https://scikit-learn.org/stable/modules/linear_model.html#logistic-regression\n",
      "  extra_warning_msg=_LOGISTIC_SOLVER_CONVERGENCE_MSG)\n",
      "/srv/paws/lib/python3.6/site-packages/sklearn/linear_model/_logistic.py:764: ConvergenceWarning: lbfgs failed to converge (status=1):\n",
      "STOP: TOTAL NO. of ITERATIONS REACHED LIMIT.\n",
      "\n",
      "Increase the number of iterations (max_iter) or scale the data as shown in:\n",
      "    https://scikit-learn.org/stable/modules/preprocessing.html\n",
      "Please also refer to the documentation for alternative solver options:\n",
      "    https://scikit-learn.org/stable/modules/linear_model.html#logistic-regression\n",
      "  extra_warning_msg=_LOGISTIC_SOLVER_CONVERGENCE_MSG)\n",
      "/srv/paws/lib/python3.6/site-packages/sklearn/linear_model/_logistic.py:764: ConvergenceWarning: lbfgs failed to converge (status=1):\n",
      "STOP: TOTAL NO. of ITERATIONS REACHED LIMIT.\n",
      "\n",
      "Increase the number of iterations (max_iter) or scale the data as shown in:\n",
      "    https://scikit-learn.org/stable/modules/preprocessing.html\n",
      "Please also refer to the documentation for alternative solver options:\n",
      "    https://scikit-learn.org/stable/modules/linear_model.html#logistic-regression\n",
      "  extra_warning_msg=_LOGISTIC_SOLVER_CONVERGENCE_MSG)\n",
      "/srv/paws/lib/python3.6/site-packages/sklearn/linear_model/_logistic.py:764: ConvergenceWarning: lbfgs failed to converge (status=1):\n",
      "STOP: TOTAL NO. of ITERATIONS REACHED LIMIT.\n",
      "\n",
      "Increase the number of iterations (max_iter) or scale the data as shown in:\n",
      "    https://scikit-learn.org/stable/modules/preprocessing.html\n",
      "Please also refer to the documentation for alternative solver options:\n",
      "    https://scikit-learn.org/stable/modules/linear_model.html#logistic-regression\n",
      "  extra_warning_msg=_LOGISTIC_SOLVER_CONVERGENCE_MSG)\n",
      "/srv/paws/lib/python3.6/site-packages/sklearn/linear_model/_logistic.py:764: ConvergenceWarning: lbfgs failed to converge (status=1):\n",
      "STOP: TOTAL NO. of ITERATIONS REACHED LIMIT.\n",
      "\n",
      "Increase the number of iterations (max_iter) or scale the data as shown in:\n",
      "    https://scikit-learn.org/stable/modules/preprocessing.html\n",
      "Please also refer to the documentation for alternative solver options:\n",
      "    https://scikit-learn.org/stable/modules/linear_model.html#logistic-regression\n",
      "  extra_warning_msg=_LOGISTIC_SOLVER_CONVERGENCE_MSG)\n",
      "/srv/paws/lib/python3.6/site-packages/sklearn/linear_model/_logistic.py:764: ConvergenceWarning: lbfgs failed to converge (status=1):\n",
      "STOP: TOTAL NO. of ITERATIONS REACHED LIMIT.\n",
      "\n",
      "Increase the number of iterations (max_iter) or scale the data as shown in:\n",
      "    https://scikit-learn.org/stable/modules/preprocessing.html\n",
      "Please also refer to the documentation for alternative solver options:\n",
      "    https://scikit-learn.org/stable/modules/linear_model.html#logistic-regression\n",
      "  extra_warning_msg=_LOGISTIC_SOLVER_CONVERGENCE_MSG)\n",
      "/srv/paws/lib/python3.6/site-packages/sklearn/linear_model/_logistic.py:764: ConvergenceWarning: lbfgs failed to converge (status=1):\n",
      "STOP: TOTAL NO. of ITERATIONS REACHED LIMIT.\n",
      "\n",
      "Increase the number of iterations (max_iter) or scale the data as shown in:\n",
      "    https://scikit-learn.org/stable/modules/preprocessing.html\n",
      "Please also refer to the documentation for alternative solver options:\n",
      "    https://scikit-learn.org/stable/modules/linear_model.html#logistic-regression\n",
      "  extra_warning_msg=_LOGISTIC_SOLVER_CONVERGENCE_MSG)\n",
      "/srv/paws/lib/python3.6/site-packages/sklearn/linear_model/_logistic.py:764: ConvergenceWarning: lbfgs failed to converge (status=1):\n",
      "STOP: TOTAL NO. of ITERATIONS REACHED LIMIT.\n",
      "\n",
      "Increase the number of iterations (max_iter) or scale the data as shown in:\n",
      "    https://scikit-learn.org/stable/modules/preprocessing.html\n",
      "Please also refer to the documentation for alternative solver options:\n",
      "    https://scikit-learn.org/stable/modules/linear_model.html#logistic-regression\n",
      "  extra_warning_msg=_LOGISTIC_SOLVER_CONVERGENCE_MSG)\n",
      "/srv/paws/lib/python3.6/site-packages/sklearn/linear_model/_logistic.py:764: ConvergenceWarning: lbfgs failed to converge (status=1):\n",
      "STOP: TOTAL NO. of ITERATIONS REACHED LIMIT.\n",
      "\n",
      "Increase the number of iterations (max_iter) or scale the data as shown in:\n",
      "    https://scikit-learn.org/stable/modules/preprocessing.html\n",
      "Please also refer to the documentation for alternative solver options:\n",
      "    https://scikit-learn.org/stable/modules/linear_model.html#logistic-regression\n",
      "  extra_warning_msg=_LOGISTIC_SOLVER_CONVERGENCE_MSG)\n",
      "/srv/paws/lib/python3.6/site-packages/sklearn/linear_model/_logistic.py:764: ConvergenceWarning: lbfgs failed to converge (status=1):\n",
      "STOP: TOTAL NO. of ITERATIONS REACHED LIMIT.\n",
      "\n",
      "Increase the number of iterations (max_iter) or scale the data as shown in:\n",
      "    https://scikit-learn.org/stable/modules/preprocessing.html\n",
      "Please also refer to the documentation for alternative solver options:\n",
      "    https://scikit-learn.org/stable/modules/linear_model.html#logistic-regression\n",
      "  extra_warning_msg=_LOGISTIC_SOLVER_CONVERGENCE_MSG)\n"
     ]
    }
   ],
   "source": [
    "predictors= train_x\n",
    "selector= RFE(lr, n_features_to_select= 1)\n",
    "selector= selector.fit(predictors, train_y) #Fitting data on the feature selector model"
   ]
  },
  {
   "cell_type": "code",
   "execution_count": 65,
   "metadata": {},
   "outputs": [
    {
     "data": {
      "text/plain": [
       "array([10, 11,  5,  4,  8,  7,  6, 12, 16, 13,  2, 18, 14,  9, 15, 17,  3,\n",
       "        1])"
      ]
     },
     "execution_count": 65,
     "metadata": {},
     "output_type": "execute_result"
    }
   ],
   "source": [
    "order= selector.ranking_\n",
    "order #This shows the data order of importance "
   ]
  },
  {
   "cell_type": "code",
   "execution_count": 66,
   "metadata": {},
   "outputs": [
    {
     "data": {
      "text/plain": [
       "['10. restrictiontypes',\n",
       " '11. watchers',\n",
       " '5. pagelanguagehtmlcode',\n",
       " '4. pagelanguage',\n",
       " '8. lastrevid',\n",
       " '7. touched',\n",
       " '6. pagelanguagedir',\n",
       " '12. visitingwatchers',\n",
       " '16. new',\n",
       " '13. talkid',\n",
       " '2. title',\n",
       " '18. level',\n",
       " '14. redirect',\n",
       " '9. length',\n",
       " '15. subjectid',\n",
       " '17. type',\n",
       " '3. contentmodel',\n",
       " '1. ns']"
      ]
     },
     "execution_count": 66,
     "metadata": {},
     "output_type": "execute_result"
    }
   ],
   "source": [
    "feature_ranks= []\n",
    "for i in order:\n",
    "    feature_ranks.append(f\"{i}. {df.columns[i]}\")\n",
    "feature_ranks\n",
    "#combining each order of importance in respect to the data columns"
   ]
  },
  {
   "cell_type": "markdown",
   "metadata": {},
   "source": [
    "* 'NS', 'title', 'contentmodel', 'pagelanguage', 'pagelanguagehtmlcode' are the most important features to make our prediction\n",
    "* Feature importance is mainly for us to know the predictors with the best effect o our outcome variable. This is to prevent the model from learning from noise "
   ]
  },
  {
   "cell_type": "code",
   "execution_count": 67,
   "metadata": {},
   "outputs": [],
   "source": [
    "#from sklearn.feature_selection import SelectFromModel\n",
    "#smf= SelectFromModel(lr, threshold= np.inf, max_features= 10)\n",
    "#smf.fit(train_x, train_y)\n",
    "#feature_idx= smf.get_support()\n",
    "#feature_names= df.columns[feature_idx]\n",
    "#feature_names"
   ]
  },
  {
   "cell_type": "code",
   "execution_count": 68,
   "metadata": {},
   "outputs": [],
   "source": [
    "# TODO: evaluate model\n"
   ]
  },
  {
   "cell_type": "markdown",
   "metadata": {},
   "source": [
    "### Future Analyses\n",
    "TODO: Describe any additional analyses you can think of that would be interesting (and why) -- even if you are not sure how to do them."
   ]
  },
  {
   "cell_type": "markdown",
   "metadata": {},
   "source": [
    "#### This marks the end of the notebook but more things can still be done to improve the accuracy of our model.\n",
    "#### More data can still be queried from the revision endpoint, contribution page as well.\n",
    "#### There is always this assumption that'The more the data, the better the performance of the model', which implies that after querying more data from the two named above pages, then, the accuracy of our mmodel will surely improve\n",
    "#### More predictions can also be doone to predict if a page is protected or not , as this notebook is solely based on the protection types.\n",
    "#### Further prediction can still be done to predict a page expiry(to a certain period or infinity)"
   ]
  },
  {
   "cell_type": "code",
   "execution_count": null,
   "metadata": {},
   "outputs": [],
   "source": []
  }
 ],
 "metadata": {
  "kernelspec": {
   "display_name": "Python 3",
   "language": "python",
   "name": "python3"
  },
  "language_info": {
   "codemirror_mode": {
    "name": "ipython",
    "version": 3
   },
   "file_extension": ".py",
   "mimetype": "text/x-python",
   "name": "python",
   "nbconvert_exporter": "python",
   "pygments_lexer": "ipython3",
   "version": "3.6.9"
  }
 },
 "nbformat": 4,
 "nbformat_minor": 2
}
